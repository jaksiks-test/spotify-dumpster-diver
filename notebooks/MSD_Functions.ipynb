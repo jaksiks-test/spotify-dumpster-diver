{
 "cells": [
  {
   "cell_type": "code",
   "execution_count": 8,
   "id": "c9eeced6",
   "metadata": {},
   "outputs": [],
   "source": [
    "import tarfile\n",
    "import h5py\n",
    "import pandas as pd\n",
    "import os"
   ]
  },
  {
   "cell_type": "code",
   "execution_count": 9,
   "id": "21592d55",
   "metadata": {},
   "outputs": [
    {
     "ename": "FileNotFoundError",
     "evalue": "[Errno 2] No such file or directory: 'millionsongsubset.tar.gz'",
     "output_type": "error",
     "traceback": [
      "\u001b[0;31m---------------------------------------------------------------------------\u001b[0m",
      "\u001b[0;31mFileNotFoundError\u001b[0m                         Traceback (most recent call last)",
      "Cell \u001b[0;32mIn[9], line 2\u001b[0m\n\u001b[1;32m      1\u001b[0m \u001b[39m# Unzipped MSD subset\u001b[39;00m\n\u001b[0;32m----> 2\u001b[0m tar \u001b[39m=\u001b[39m tarfile\u001b[39m.\u001b[39mopen(\u001b[39m\"\u001b[39m\u001b[39mmillionsongsubset.tar.gz\u001b[39m\u001b[39m\"\u001b[39m)\n\u001b[1;32m      3\u001b[0m tar_members \u001b[39m=\u001b[39m tar\u001b[39m.\u001b[39mgetmembers()\n\u001b[1;32m      5\u001b[0m \u001b[39m# Print the names of the files in the archive\u001b[39;00m\n\u001b[1;32m      6\u001b[0m \u001b[39m#for member in tar_members:\u001b[39;00m\n\u001b[1;32m      7\u001b[0m     \u001b[39m#print(member.name)\u001b[39;00m\n",
      "File \u001b[0;32m~/anaconda3/envs/cse-6242-project/lib/python3.11/tarfile.py:1632\u001b[0m, in \u001b[0;36mTarFile.open\u001b[0;34m(cls, name, mode, fileobj, bufsize, **kwargs)\u001b[0m\n\u001b[1;32m   1630\u001b[0m     saved_pos \u001b[39m=\u001b[39m fileobj\u001b[39m.\u001b[39mtell()\n\u001b[1;32m   1631\u001b[0m \u001b[39mtry\u001b[39;00m:\n\u001b[0;32m-> 1632\u001b[0m     \u001b[39mreturn\u001b[39;00m func(name, \u001b[39m\"\u001b[39m\u001b[39mr\u001b[39m\u001b[39m\"\u001b[39m, fileobj, \u001b[39m*\u001b[39m\u001b[39m*\u001b[39mkwargs)\n\u001b[1;32m   1633\u001b[0m \u001b[39mexcept\u001b[39;00m (ReadError, CompressionError) \u001b[39mas\u001b[39;00m e:\n\u001b[1;32m   1634\u001b[0m     error_msgs\u001b[39m.\u001b[39mappend(\u001b[39mf\u001b[39m\u001b[39m'\u001b[39m\u001b[39m- method \u001b[39m\u001b[39m{\u001b[39;00mcomptype\u001b[39m}\u001b[39;00m\u001b[39m: \u001b[39m\u001b[39m{\u001b[39;00me\u001b[39m!r}\u001b[39;00m\u001b[39m'\u001b[39m)\n",
      "File \u001b[0;32m~/anaconda3/envs/cse-6242-project/lib/python3.11/tarfile.py:1698\u001b[0m, in \u001b[0;36mTarFile.gzopen\u001b[0;34m(cls, name, mode, fileobj, compresslevel, **kwargs)\u001b[0m\n\u001b[1;32m   1695\u001b[0m     \u001b[39mraise\u001b[39;00m CompressionError(\u001b[39m\"\u001b[39m\u001b[39mgzip module is not available\u001b[39m\u001b[39m\"\u001b[39m) \u001b[39mfrom\u001b[39;00m \u001b[39mNone\u001b[39m\n\u001b[1;32m   1697\u001b[0m \u001b[39mtry\u001b[39;00m:\n\u001b[0;32m-> 1698\u001b[0m     fileobj \u001b[39m=\u001b[39m GzipFile(name, mode \u001b[39m+\u001b[39m \u001b[39m\"\u001b[39m\u001b[39mb\u001b[39m\u001b[39m\"\u001b[39m, compresslevel, fileobj)\n\u001b[1;32m   1699\u001b[0m \u001b[39mexcept\u001b[39;00m \u001b[39mOSError\u001b[39;00m \u001b[39mas\u001b[39;00m e:\n\u001b[1;32m   1700\u001b[0m     \u001b[39mif\u001b[39;00m fileobj \u001b[39mis\u001b[39;00m \u001b[39mnot\u001b[39;00m \u001b[39mNone\u001b[39;00m \u001b[39mand\u001b[39;00m mode \u001b[39m==\u001b[39m \u001b[39m'\u001b[39m\u001b[39mr\u001b[39m\u001b[39m'\u001b[39m:\n",
      "File \u001b[0;32m~/anaconda3/envs/cse-6242-project/lib/python3.11/gzip.py:174\u001b[0m, in \u001b[0;36mGzipFile.__init__\u001b[0;34m(self, filename, mode, compresslevel, fileobj, mtime)\u001b[0m\n\u001b[1;32m    172\u001b[0m     mode \u001b[39m+\u001b[39m\u001b[39m=\u001b[39m \u001b[39m'\u001b[39m\u001b[39mb\u001b[39m\u001b[39m'\u001b[39m\n\u001b[1;32m    173\u001b[0m \u001b[39mif\u001b[39;00m fileobj \u001b[39mis\u001b[39;00m \u001b[39mNone\u001b[39;00m:\n\u001b[0;32m--> 174\u001b[0m     fileobj \u001b[39m=\u001b[39m \u001b[39mself\u001b[39m\u001b[39m.\u001b[39mmyfileobj \u001b[39m=\u001b[39m builtins\u001b[39m.\u001b[39mopen(filename, mode \u001b[39mor\u001b[39;00m \u001b[39m'\u001b[39m\u001b[39mrb\u001b[39m\u001b[39m'\u001b[39m)\n\u001b[1;32m    175\u001b[0m \u001b[39mif\u001b[39;00m filename \u001b[39mis\u001b[39;00m \u001b[39mNone\u001b[39;00m:\n\u001b[1;32m    176\u001b[0m     filename \u001b[39m=\u001b[39m \u001b[39mgetattr\u001b[39m(fileobj, \u001b[39m'\u001b[39m\u001b[39mname\u001b[39m\u001b[39m'\u001b[39m, \u001b[39m'\u001b[39m\u001b[39m'\u001b[39m)\n",
      "\u001b[0;31mFileNotFoundError\u001b[0m: [Errno 2] No such file or directory: 'millionsongsubset.tar.gz'"
     ]
    }
   ],
   "source": [
    "# Unzipped MSD subset\n",
    "tar = tarfile.open(\"millionsongsubset.tar.gz\")\n",
    "tar_members = tar.getmembers()\n",
    "\n",
    "# Print the names of the files in the archive\n",
    "#for member in tar_members:\n",
    "    #print(member.name)\n",
    "\n",
    "tar.close()"
   ]
  },
  {
   "cell_type": "code",
   "execution_count": null,
   "id": "30eadd50",
   "metadata": {},
   "outputs": [],
   "source": [
    "# Exploring MSD subset\n",
    "filename = \"MillionSongSubset/B/G/M/TRBGMWQ12903CC23CD.h5\"\n",
    "\n",
    "with h5py.File(filename, \"r\") as f:\n",
    "    # Dictionaries per each song\n",
    "    dict_song_keys = list(f.keys())\n",
    "    # Access the metadata for each the song\n",
    "    metadata = f[\"metadata\"]\n",
    "    metadata_keys = list(metadata.keys())\n",
    "    # Access the audio data (Analysis from audio data)\n",
    "    analysis = f[\"analysis\"]\n",
    "    analysis_keys = list(analysis.keys())\n",
    "    # Access to musicbrainz\n",
    "    musicbrainz = f[\"musicbrainz\"]\n",
    "    musicbrainz_keys = list(musicbrainz.keys())\n",
    "\n",
    "print(dict_song_keys)"
   ]
  },
  {
   "cell_type": "code",
   "execution_count": null,
   "id": "4616fb68",
   "metadata": {},
   "outputs": [],
   "source": [
    "# Choose main dictionary between: \"metadata\", \"analysis\" or \"musicbrainz\"\n",
    "def parsing_h5file(file_name, main_dictionary):\n",
    "    with h5py.File(file_name, \"r\") as f:\n",
    "        data_group = f[main_dictionary]\n",
    "\n",
    "        # Create a dictionary for each key with all data contained by the song\n",
    "        data_dict = {}\n",
    "        for key in data_group.keys():\n",
    "            data_dict[key] = data_group[key][()]\n",
    "\n",
    "    return data_dict"
   ]
  },
  {
   "cell_type": "markdown",
   "id": "ebf43a14",
   "metadata": {},
   "source": [
    "### Getting features for one song"
   ]
  },
  {
   "cell_type": "code",
   "execution_count": null,
   "id": "4d64336a",
   "metadata": {},
   "outputs": [],
   "source": [
    "# Open the HDF5 file containing the metadata\n",
    "file_name = \"MillionSongSubset/B/G/M/TRBGMWQ12903CC23CD.h5\"\n",
    "# Getting features from metadata\n",
    "metadata_dict = parsing_h5file(file_name, \"metadata\")\n",
    "print(metadata_dict.keys())"
   ]
  },
  {
   "cell_type": "code",
   "execution_count": null,
   "id": "4d89c5e2",
   "metadata": {},
   "outputs": [],
   "source": [
    "# Getting features from analysis\n",
    "analysis_dict = parsing_h5file(file_name, \"analysis\")\n",
    "print(analysis_dict.keys())"
   ]
  },
  {
   "cell_type": "code",
   "execution_count": null,
   "id": "4e9a861a",
   "metadata": {},
   "outputs": [],
   "source": [
    "# Getting features from musicbrainz\n",
    "musicbrainz_dict = parsing_h5file(file_name, \"musicbrainz\")\n",
    "print(musicbrainz_dict.keys())"
   ]
  },
  {
   "cell_type": "markdown",
   "id": "1bfa1fd4",
   "metadata": {},
   "source": [
    "### Getting features for several songs located in same main folder"
   ]
  },
  {
   "cell_type": "code",
   "execution_count": null,
   "id": "6ed28d28",
   "metadata": {},
   "outputs": [],
   "source": [
    "# Parsing several songs  \n",
    "def parsing_h5files(path_to_files, main_dictionary):\n",
    "    list_of_filenames = [os.path.join(path_to_files, f) for f in os.listdir(path_to_files) if f.endswith(\".h5\")]\n",
    "\n",
    "    # Create an empty DataFrame to store the data\n",
    "    data =[]\n",
    "\n",
    "    # Loop over the HDF5 files\n",
    "    for filename in list_of_filenames:\n",
    "        with h5py.File(filename, \"r\") as f:\n",
    "            data_group = f[main_dictionary]\n",
    "\n",
    "            # Create a dictionary for each key \n",
    "            data_dict = {}\n",
    "            for key in data_group.keys():\n",
    "                data_dict[key] = data_group[key][()]\n",
    "\n",
    "            # Append data_dict to data\n",
    "            data.append(data_dict)\n",
    "            \n",
    "    # Covert to dataframe\n",
    "    column_names = list(data_dict.keys())\n",
    "    df = pd.DataFrame(data, columns=column_names)\n",
    "    \n",
    "    return df"
   ]
  },
  {
   "cell_type": "code",
   "execution_count": null,
   "id": "6c06cc52",
   "metadata": {},
   "outputs": [],
   "source": [
    "# Actual file path main folder\n",
    "path_to_files = \"MillionSongSubset/B/G/K/\"\n",
    "metadata_df = parsing_h5files(path_to_files, \"metadata\")\n",
    "#display(metadata_df)"
   ]
  },
  {
   "cell_type": "markdown",
   "id": "936cd7d8",
   "metadata": {},
   "source": [
    "### Getting features for all songs"
   ]
  },
  {
   "cell_type": "code",
   "execution_count": null,
   "id": "984df96f",
   "metadata": {},
   "outputs": [],
   "source": [
    "# Function to retrieve info from all files in MillionSongSubset\n",
    "def parsing_h5files(dataset_name, main_dictionary):\n",
    "    data = []\n",
    "    rootdir = dataset_name # Path to the dataset\n",
    "    for subdir, dirs, files in os.walk(rootdir):\n",
    "        for file in files:\n",
    "            if file.endswith('.h5'):\n",
    "                filename = os.path.join(subdir, file)\n",
    "                with h5py.File(filename, 'r') as f:\n",
    "                    data_group = f[main_dictionary]\n",
    "\n",
    "                    # Create a dictionary for each key with all data contained by the song\n",
    "                    data_dict = {}\n",
    "                    for key in data_group.keys():\n",
    "                        data_dict[key] = data_group[key][()]\n",
    "                                                     \n",
    "                    data.append(data_dict)\n",
    "                    \n",
    "    # Covert to dataframe\n",
    "    column_names = list(data_dict.keys())\n",
    "    df = pd.DataFrame(data, columns=column_names)\n",
    "    \n",
    "    return df"
   ]
  },
  {
   "cell_type": "code",
   "execution_count": null,
   "id": "de6ea26f",
   "metadata": {},
   "outputs": [],
   "source": [
    "# Retrieving features for all songs\n",
    "dataset_name = 'MillionSongSubset'\n",
    "metadata_df = parsing_h5files(dataset_name, \"metadata\")\n",
    "#print(metadata_df.head())"
   ]
  }
 ],
 "metadata": {
  "kernelspec": {
   "display_name": "Python 3 (ipykernel)",
   "language": "python",
   "name": "python3"
  },
  "language_info": {
   "codemirror_mode": {
    "name": "ipython",
    "version": 3
   },
   "file_extension": ".py",
   "mimetype": "text/x-python",
   "name": "python",
   "nbconvert_exporter": "python",
   "pygments_lexer": "ipython3",
   "version": "3.11.0"
  }
 },
 "nbformat": 4,
 "nbformat_minor": 5
}
