{
 "cells": [
  {
   "cell_type": "code",
   "execution_count": 1,
   "metadata": {},
   "outputs": [],
   "source": [
    "import sys\n",
    "sys.path.append('..')"
   ]
  },
  {
   "cell_type": "code",
   "execution_count": 2,
   "metadata": {},
   "outputs": [],
   "source": [
    "%run -m diver.spotify.spotify_wrapper"
   ]
  },
  {
   "cell_type": "code",
   "execution_count": 3,
   "metadata": {},
   "outputs": [],
   "source": [
    "from diver.spotify.spotify_wrapper import SpotifyWrapper\n",
    "import os\n",
    "import pandas as pd\n",
    "from diver.models.msd_model import MSDModel\n",
    "import numpy as np"
   ]
  },
  {
   "cell_type": "code",
   "execution_count": 4,
   "metadata": {},
   "outputs": [
    {
     "data": {
      "text/html": [
       "<div>\n",
       "<style scoped>\n",
       "    .dataframe tbody tr th:only-of-type {\n",
       "        vertical-align: middle;\n",
       "    }\n",
       "\n",
       "    .dataframe tbody tr th {\n",
       "        vertical-align: top;\n",
       "    }\n",
       "\n",
       "    .dataframe thead th {\n",
       "        text-align: right;\n",
       "    }\n",
       "</style>\n",
       "<table border=\"1\" class=\"dataframe\">\n",
       "  <thead>\n",
       "    <tr style=\"text-align: right;\">\n",
       "      <th></th>\n",
       "      <th>track_id</th>\n",
       "      <th>artist_familiarity</th>\n",
       "      <th>artist_hotttnesss</th>\n",
       "      <th>loudness</th>\n",
       "      <th>tempo</th>\n",
       "      <th>popularity</th>\n",
       "      <th>pitch_network_average_degree</th>\n",
       "      <th>pitch_network_entropy</th>\n",
       "      <th>pitch_network_mean_clustering_coeff</th>\n",
       "      <th>timbre_00</th>\n",
       "      <th>...</th>\n",
       "      <th>timbre_07</th>\n",
       "      <th>timbre_08</th>\n",
       "      <th>timbre_09</th>\n",
       "      <th>timbre_10</th>\n",
       "      <th>timbre_11</th>\n",
       "      <th>pitch_network</th>\n",
       "      <th>pitch_codewords</th>\n",
       "      <th>average_degree</th>\n",
       "      <th>graph_entropy</th>\n",
       "      <th>average_clustering</th>\n",
       "    </tr>\n",
       "  </thead>\n",
       "  <tbody>\n",
       "    <tr>\n",
       "      <th>0</th>\n",
       "      <td>0WtM2NBVQNNJLh6scP13H8</td>\n",
       "      <td>NaN</td>\n",
       "      <td>NaN</td>\n",
       "      <td>-5.206</td>\n",
       "      <td>106.999</td>\n",
       "      <td>96</td>\n",
       "      <td>3.298344</td>\n",
       "      <td>0.405854</td>\n",
       "      <td>0.358189</td>\n",
       "      <td>47.272856</td>\n",
       "      <td>...</td>\n",
       "      <td>-6.291379</td>\n",
       "      <td>1.561861</td>\n",
       "      <td>-4.598316</td>\n",
       "      <td>-8.809918</td>\n",
       "      <td>3.949928</td>\n",
       "      <td>(2, 2)\\t1\\n  (2, 3)\\t1\\n  (2, 8)\\t1\\n  (2, 1...</td>\n",
       "      <td>[2064, 256, 2559, 2048, 2304, 256, 256, 2330, ...</td>\n",
       "      <td>3.298344</td>\n",
       "      <td>0.405854</td>\n",
       "      <td>0.358189</td>\n",
       "    </tr>\n",
       "    <tr>\n",
       "      <th>1</th>\n",
       "      <td>0c8f8b76ThPP2MInXEZyTY</td>\n",
       "      <td>NaN</td>\n",
       "      <td>NaN</td>\n",
       "      <td>-3.217</td>\n",
       "      <td>127.876</td>\n",
       "      <td>60</td>\n",
       "      <td>4.065703</td>\n",
       "      <td>0.438897</td>\n",
       "      <td>0.242193</td>\n",
       "      <td>47.272856</td>\n",
       "      <td>...</td>\n",
       "      <td>-6.291379</td>\n",
       "      <td>1.561861</td>\n",
       "      <td>-4.598316</td>\n",
       "      <td>-8.809918</td>\n",
       "      <td>3.949928</td>\n",
       "      <td>(1, 1)\\t1\\n  (1, 3)\\t1\\n  (1, 7)\\t1\\n  (1, 2...</td>\n",
       "      <td>[191, 128, 1152, 1152, 288, 136, 136, 8, 8, 10...</td>\n",
       "      <td>4.065703</td>\n",
       "      <td>0.438897</td>\n",
       "      <td>0.242193</td>\n",
       "    </tr>\n",
       "    <tr>\n",
       "      <th>2</th>\n",
       "      <td>28upjDakWVnHAgW2anm273</td>\n",
       "      <td>NaN</td>\n",
       "      <td>NaN</td>\n",
       "      <td>-10.171</td>\n",
       "      <td>149.695</td>\n",
       "      <td>70</td>\n",
       "      <td>4.587826</td>\n",
       "      <td>0.516214</td>\n",
       "      <td>0.173740</td>\n",
       "      <td>47.272856</td>\n",
       "      <td>...</td>\n",
       "      <td>-6.291379</td>\n",
       "      <td>1.561861</td>\n",
       "      <td>-4.598316</td>\n",
       "      <td>-8.809918</td>\n",
       "      <td>3.949928</td>\n",
       "      <td>(1, 1)\\t1\\n  (1, 3)\\t1\\n  (1, 4)\\t1\\n  (1, 3...</td>\n",
       "      <td>[145, 2193, 128, 145, 1, 128, 128, 128, 2208, ...</td>\n",
       "      <td>4.587826</td>\n",
       "      <td>0.516214</td>\n",
       "      <td>0.173740</td>\n",
       "    </tr>\n",
       "    <tr>\n",
       "      <th>3</th>\n",
       "      <td>48svUiwMMYQRPyesVEnof1</td>\n",
       "      <td>NaN</td>\n",
       "      <td>NaN</td>\n",
       "      <td>-6.896</td>\n",
       "      <td>97.022</td>\n",
       "      <td>72</td>\n",
       "      <td>3.617531</td>\n",
       "      <td>0.542337</td>\n",
       "      <td>0.302893</td>\n",
       "      <td>47.272856</td>\n",
       "      <td>...</td>\n",
       "      <td>-6.291379</td>\n",
       "      <td>1.561861</td>\n",
       "      <td>-4.598316</td>\n",
       "      <td>-8.809918</td>\n",
       "      <td>3.949928</td>\n",
       "      <td>(1, 1)\\t1\\n  (1, 3)\\t1\\n  (1, 15)\\t1\\n  (1, ...</td>\n",
       "      <td>[3072, 2048, 2048, 1008, 128, 4, 33, 1411, 115...</td>\n",
       "      <td>3.617531</td>\n",
       "      <td>0.542337</td>\n",
       "      <td>0.302893</td>\n",
       "    </tr>\n",
       "    <tr>\n",
       "      <th>4</th>\n",
       "      <td>7I7JbDv63ZJJsSi24DyJrz</td>\n",
       "      <td>NaN</td>\n",
       "      <td>NaN</td>\n",
       "      <td>-6.686</td>\n",
       "      <td>160.024</td>\n",
       "      <td>75</td>\n",
       "      <td>3.731402</td>\n",
       "      <td>0.407839</td>\n",
       "      <td>0.345055</td>\n",
       "      <td>47.272856</td>\n",
       "      <td>...</td>\n",
       "      <td>-6.291379</td>\n",
       "      <td>1.561861</td>\n",
       "      <td>-4.598316</td>\n",
       "      <td>-8.809918</td>\n",
       "      <td>3.949928</td>\n",
       "      <td>(1, 1)\\t1\\n  (1, 3)\\t1\\n  (1, 8)\\t1\\n  (1, 4...</td>\n",
       "      <td>[4095, 416, 1, 1, 1, 1280, 256, 1280, 1024, 10...</td>\n",
       "      <td>3.731402</td>\n",
       "      <td>0.407839</td>\n",
       "      <td>0.345055</td>\n",
       "    </tr>\n",
       "    <tr>\n",
       "      <th>5</th>\n",
       "      <td>4Ab3B61ot9fxWW3sGkuOuN</td>\n",
       "      <td>NaN</td>\n",
       "      <td>NaN</td>\n",
       "      <td>-10.601</td>\n",
       "      <td>161.806</td>\n",
       "      <td>5</td>\n",
       "      <td>3.080161</td>\n",
       "      <td>0.238815</td>\n",
       "      <td>0.443983</td>\n",
       "      <td>47.272856</td>\n",
       "      <td>...</td>\n",
       "      <td>-6.291379</td>\n",
       "      <td>1.561861</td>\n",
       "      <td>-4.598316</td>\n",
       "      <td>-8.809918</td>\n",
       "      <td>3.949928</td>\n",
       "      <td>(1, 4)\\t1\\n  (1, 128)\\t1\\n  (2, 4)\\t1\\n  (2,...</td>\n",
       "      <td>[2035, 2048, 192, 132, 2180, 1, 4, 4, 384, 217...</td>\n",
       "      <td>3.080161</td>\n",
       "      <td>0.238815</td>\n",
       "      <td>0.443983</td>\n",
       "    </tr>\n",
       "    <tr>\n",
       "      <th>6</th>\n",
       "      <td>0fHTVPRRKmWaRuIwrsNTMp</td>\n",
       "      <td>NaN</td>\n",
       "      <td>NaN</td>\n",
       "      <td>-6.307</td>\n",
       "      <td>123.264</td>\n",
       "      <td>64</td>\n",
       "      <td>4.097848</td>\n",
       "      <td>0.550846</td>\n",
       "      <td>0.197372</td>\n",
       "      <td>47.272856</td>\n",
       "      <td>...</td>\n",
       "      <td>-6.291379</td>\n",
       "      <td>1.561861</td>\n",
       "      <td>-4.598316</td>\n",
       "      <td>-8.809918</td>\n",
       "      <td>3.949928</td>\n",
       "      <td>(1, 1)\\t1\\n  (1, 2564)\\t1\\n  (2, 384)\\t1\\n  ...</td>\n",
       "      <td>[2072, 20, 256, 305, 289, 384, 256, 3072, 2753...</td>\n",
       "      <td>4.097848</td>\n",
       "      <td>0.550846</td>\n",
       "      <td>0.197372</td>\n",
       "    </tr>\n",
       "    <tr>\n",
       "      <th>7</th>\n",
       "      <td>0oapnyKN8aw6G561waswRP</td>\n",
       "      <td>NaN</td>\n",
       "      <td>NaN</td>\n",
       "      <td>-5.623</td>\n",
       "      <td>149.834</td>\n",
       "      <td>6</td>\n",
       "      <td>3.409780</td>\n",
       "      <td>0.290339</td>\n",
       "      <td>0.336231</td>\n",
       "      <td>47.272856</td>\n",
       "      <td>...</td>\n",
       "      <td>-6.291379</td>\n",
       "      <td>1.561861</td>\n",
       "      <td>-4.598316</td>\n",
       "      <td>-8.809918</td>\n",
       "      <td>3.949928</td>\n",
       "      <td>(1, 1)\\t1\\n  (1, 48)\\t1\\n  (1, 192)\\t1\\n  (1...</td>\n",
       "      <td>[4095, 3, 3, 2241, 2177, 1536, 2097, 2361, 246...</td>\n",
       "      <td>3.409780</td>\n",
       "      <td>0.290339</td>\n",
       "      <td>0.336231</td>\n",
       "    </tr>\n",
       "    <tr>\n",
       "      <th>8</th>\n",
       "      <td>1v6e02JiKSfWvViozwzZNL</td>\n",
       "      <td>NaN</td>\n",
       "      <td>NaN</td>\n",
       "      <td>-14.648</td>\n",
       "      <td>112.839</td>\n",
       "      <td>0</td>\n",
       "      <td>4.233918</td>\n",
       "      <td>0.149298</td>\n",
       "      <td>0.271320</td>\n",
       "      <td>47.272856</td>\n",
       "      <td>...</td>\n",
       "      <td>-6.291379</td>\n",
       "      <td>1.561861</td>\n",
       "      <td>-4.598316</td>\n",
       "      <td>-8.809918</td>\n",
       "      <td>3.949928</td>\n",
       "      <td>(1, 1)\\t1\\n  (1, 129)\\t1\\n  (1, 513)\\t1\\n  (...</td>\n",
       "      <td>[4095, 1, 1, 1, 129, 129, 145, 2048, 2048, 204...</td>\n",
       "      <td>4.233918</td>\n",
       "      <td>0.149298</td>\n",
       "      <td>0.271320</td>\n",
       "    </tr>\n",
       "    <tr>\n",
       "      <th>9</th>\n",
       "      <td>5SvWpIspS1capu4FD7ewf2</td>\n",
       "      <td>NaN</td>\n",
       "      <td>NaN</td>\n",
       "      <td>-8.546</td>\n",
       "      <td>117.054</td>\n",
       "      <td>31</td>\n",
       "      <td>3.702935</td>\n",
       "      <td>0.380436</td>\n",
       "      <td>0.346090</td>\n",
       "      <td>47.272856</td>\n",
       "      <td>...</td>\n",
       "      <td>-6.291379</td>\n",
       "      <td>1.561861</td>\n",
       "      <td>-4.598316</td>\n",
       "      <td>-8.809918</td>\n",
       "      <td>3.949928</td>\n",
       "      <td>(1, 3)\\t1\\n  (1, 33)\\t1\\n  (1, 35)\\t1\\n  (1,...</td>\n",
       "      <td>[1, 48, 3, 128, 3, 36, 3, 144, 128, 131, 193, ...</td>\n",
       "      <td>3.702935</td>\n",
       "      <td>0.380436</td>\n",
       "      <td>0.346090</td>\n",
       "    </tr>\n",
       "  </tbody>\n",
       "</table>\n",
       "<p>10 rows × 26 columns</p>\n",
       "</div>"
      ],
      "text/plain": [
       "                 track_id  artist_familiarity  artist_hotttnesss  loudness  \\\n",
       "0  0WtM2NBVQNNJLh6scP13H8                 NaN                NaN    -5.206   \n",
       "1  0c8f8b76ThPP2MInXEZyTY                 NaN                NaN    -3.217   \n",
       "2  28upjDakWVnHAgW2anm273                 NaN                NaN   -10.171   \n",
       "3  48svUiwMMYQRPyesVEnof1                 NaN                NaN    -6.896   \n",
       "4  7I7JbDv63ZJJsSi24DyJrz                 NaN                NaN    -6.686   \n",
       "5  4Ab3B61ot9fxWW3sGkuOuN                 NaN                NaN   -10.601   \n",
       "6  0fHTVPRRKmWaRuIwrsNTMp                 NaN                NaN    -6.307   \n",
       "7  0oapnyKN8aw6G561waswRP                 NaN                NaN    -5.623   \n",
       "8  1v6e02JiKSfWvViozwzZNL                 NaN                NaN   -14.648   \n",
       "9  5SvWpIspS1capu4FD7ewf2                 NaN                NaN    -8.546   \n",
       "\n",
       "     tempo  popularity  pitch_network_average_degree  pitch_network_entropy  \\\n",
       "0  106.999          96                      3.298344               0.405854   \n",
       "1  127.876          60                      4.065703               0.438897   \n",
       "2  149.695          70                      4.587826               0.516214   \n",
       "3   97.022          72                      3.617531               0.542337   \n",
       "4  160.024          75                      3.731402               0.407839   \n",
       "5  161.806           5                      3.080161               0.238815   \n",
       "6  123.264          64                      4.097848               0.550846   \n",
       "7  149.834           6                      3.409780               0.290339   \n",
       "8  112.839           0                      4.233918               0.149298   \n",
       "9  117.054          31                      3.702935               0.380436   \n",
       "\n",
       "   pitch_network_mean_clustering_coeff  timbre_00  ...  timbre_07  timbre_08  \\\n",
       "0                             0.358189  47.272856  ...  -6.291379   1.561861   \n",
       "1                             0.242193  47.272856  ...  -6.291379   1.561861   \n",
       "2                             0.173740  47.272856  ...  -6.291379   1.561861   \n",
       "3                             0.302893  47.272856  ...  -6.291379   1.561861   \n",
       "4                             0.345055  47.272856  ...  -6.291379   1.561861   \n",
       "5                             0.443983  47.272856  ...  -6.291379   1.561861   \n",
       "6                             0.197372  47.272856  ...  -6.291379   1.561861   \n",
       "7                             0.336231  47.272856  ...  -6.291379   1.561861   \n",
       "8                             0.271320  47.272856  ...  -6.291379   1.561861   \n",
       "9                             0.346090  47.272856  ...  -6.291379   1.561861   \n",
       "\n",
       "   timbre_09  timbre_10  timbre_11  \\\n",
       "0  -4.598316  -8.809918   3.949928   \n",
       "1  -4.598316  -8.809918   3.949928   \n",
       "2  -4.598316  -8.809918   3.949928   \n",
       "3  -4.598316  -8.809918   3.949928   \n",
       "4  -4.598316  -8.809918   3.949928   \n",
       "5  -4.598316  -8.809918   3.949928   \n",
       "6  -4.598316  -8.809918   3.949928   \n",
       "7  -4.598316  -8.809918   3.949928   \n",
       "8  -4.598316  -8.809918   3.949928   \n",
       "9  -4.598316  -8.809918   3.949928   \n",
       "\n",
       "                                       pitch_network  \\\n",
       "0    (2, 2)\\t1\\n  (2, 3)\\t1\\n  (2, 8)\\t1\\n  (2, 1...   \n",
       "1    (1, 1)\\t1\\n  (1, 3)\\t1\\n  (1, 7)\\t1\\n  (1, 2...   \n",
       "2    (1, 1)\\t1\\n  (1, 3)\\t1\\n  (1, 4)\\t1\\n  (1, 3...   \n",
       "3    (1, 1)\\t1\\n  (1, 3)\\t1\\n  (1, 15)\\t1\\n  (1, ...   \n",
       "4    (1, 1)\\t1\\n  (1, 3)\\t1\\n  (1, 8)\\t1\\n  (1, 4...   \n",
       "5    (1, 4)\\t1\\n  (1, 128)\\t1\\n  (2, 4)\\t1\\n  (2,...   \n",
       "6    (1, 1)\\t1\\n  (1, 2564)\\t1\\n  (2, 384)\\t1\\n  ...   \n",
       "7    (1, 1)\\t1\\n  (1, 48)\\t1\\n  (1, 192)\\t1\\n  (1...   \n",
       "8    (1, 1)\\t1\\n  (1, 129)\\t1\\n  (1, 513)\\t1\\n  (...   \n",
       "9    (1, 3)\\t1\\n  (1, 33)\\t1\\n  (1, 35)\\t1\\n  (1,...   \n",
       "\n",
       "                                     pitch_codewords  average_degree  \\\n",
       "0  [2064, 256, 2559, 2048, 2304, 256, 256, 2330, ...        3.298344   \n",
       "1  [191, 128, 1152, 1152, 288, 136, 136, 8, 8, 10...        4.065703   \n",
       "2  [145, 2193, 128, 145, 1, 128, 128, 128, 2208, ...        4.587826   \n",
       "3  [3072, 2048, 2048, 1008, 128, 4, 33, 1411, 115...        3.617531   \n",
       "4  [4095, 416, 1, 1, 1, 1280, 256, 1280, 1024, 10...        3.731402   \n",
       "5  [2035, 2048, 192, 132, 2180, 1, 4, 4, 384, 217...        3.080161   \n",
       "6  [2072, 20, 256, 305, 289, 384, 256, 3072, 2753...        4.097848   \n",
       "7  [4095, 3, 3, 2241, 2177, 1536, 2097, 2361, 246...        3.409780   \n",
       "8  [4095, 1, 1, 1, 129, 129, 145, 2048, 2048, 204...        4.233918   \n",
       "9  [1, 48, 3, 128, 3, 36, 3, 144, 128, 131, 193, ...        3.702935   \n",
       "\n",
       "   graph_entropy  average_clustering  \n",
       "0       0.405854            0.358189  \n",
       "1       0.438897            0.242193  \n",
       "2       0.516214            0.173740  \n",
       "3       0.542337            0.302893  \n",
       "4       0.407839            0.345055  \n",
       "5       0.238815            0.443983  \n",
       "6       0.550846            0.197372  \n",
       "7       0.290339            0.336231  \n",
       "8       0.149298            0.271320  \n",
       "9       0.380436            0.346090  \n",
       "\n",
       "[10 rows x 26 columns]"
      ]
     },
     "metadata": {},
     "output_type": "display_data"
    }
   ],
   "source": [
    "sw = SpotifyWrapper()\n",
    "df = sw.get_user_recent_tracks()\n",
    "display(df[1])"
   ]
  },
  {
   "cell_type": "code",
   "execution_count": 5,
   "metadata": {},
   "outputs": [
    {
     "data": {
      "text/html": [
       "<div>\n",
       "<style scoped>\n",
       "    .dataframe tbody tr th:only-of-type {\n",
       "        vertical-align: middle;\n",
       "    }\n",
       "\n",
       "    .dataframe tbody tr th {\n",
       "        vertical-align: top;\n",
       "    }\n",
       "\n",
       "    .dataframe thead th {\n",
       "        text-align: right;\n",
       "    }\n",
       "</style>\n",
       "<table border=\"1\" class=\"dataframe\">\n",
       "  <thead>\n",
       "    <tr style=\"text-align: right;\">\n",
       "      <th></th>\n",
       "      <th>track_id</th>\n",
       "      <th>name</th>\n",
       "      <th>artist</th>\n",
       "      <th>artist_id</th>\n",
       "      <th>played_at</th>\n",
       "      <th>popularity</th>\n",
       "      <th>song_array</th>\n",
       "      <th>genres</th>\n",
       "      <th>danceability</th>\n",
       "      <th>energy</th>\n",
       "      <th>...</th>\n",
       "      <th>liveness</th>\n",
       "      <th>valence</th>\n",
       "      <th>tempo</th>\n",
       "      <th>type</th>\n",
       "      <th>id</th>\n",
       "      <th>uri</th>\n",
       "      <th>track_href</th>\n",
       "      <th>analysis_url</th>\n",
       "      <th>duration_ms</th>\n",
       "      <th>time_signature</th>\n",
       "    </tr>\n",
       "  </thead>\n",
       "  <tbody>\n",
       "    <tr>\n",
       "      <th>0</th>\n",
       "      <td>0WtM2NBVQNNJLh6scP13H8</td>\n",
       "      <td>Calm Down (with Selena Gomez)</td>\n",
       "      <td>Rema</td>\n",
       "      <td>46pWGuE3dSwY3bMMXGBvVS</td>\n",
       "      <td>2023-04-06T00:17:22.783Z</td>\n",
       "      <td>96</td>\n",
       "      <td>[{'start': 0.0, 'duration': 0.25447, 'confiden...</td>\n",
       "      <td>[nigerian pop]</td>\n",
       "      <td>0.801</td>\n",
       "      <td>0.806</td>\n",
       "      <td>...</td>\n",
       "      <td>0.1140</td>\n",
       "      <td>0.8020</td>\n",
       "      <td>106.999</td>\n",
       "      <td>audio_features</td>\n",
       "      <td>0WtM2NBVQNNJLh6scP13H8</td>\n",
       "      <td>spotify:track:0WtM2NBVQNNJLh6scP13H8</td>\n",
       "      <td>https://api.spotify.com/v1/tracks/0WtM2NBVQNNJ...</td>\n",
       "      <td>https://api.spotify.com/v1/audio-analysis/0WtM...</td>\n",
       "      <td>239318</td>\n",
       "      <td>4</td>\n",
       "    </tr>\n",
       "    <tr>\n",
       "      <th>1</th>\n",
       "      <td>0c8f8b76ThPP2MInXEZyTY</td>\n",
       "      <td>El Sol No Regresa</td>\n",
       "      <td>La Quinta Estacion</td>\n",
       "      <td>7FZj349hdLfD6qzXkJLuAh</td>\n",
       "      <td>2023-03-12T20:13:16.416Z</td>\n",
       "      <td>60</td>\n",
       "      <td>[{'start': 0.0, 'duration': 0.15043, 'confiden...</td>\n",
       "      <td>[latin arena pop, latin pop, spanish pop rock]</td>\n",
       "      <td>0.579</td>\n",
       "      <td>0.898</td>\n",
       "      <td>...</td>\n",
       "      <td>0.2130</td>\n",
       "      <td>0.6350</td>\n",
       "      <td>127.876</td>\n",
       "      <td>audio_features</td>\n",
       "      <td>0c8f8b76ThPP2MInXEZyTY</td>\n",
       "      <td>spotify:track:0c8f8b76ThPP2MInXEZyTY</td>\n",
       "      <td>https://api.spotify.com/v1/tracks/0c8f8b76ThPP...</td>\n",
       "      <td>https://api.spotify.com/v1/audio-analysis/0c8f...</td>\n",
       "      <td>228107</td>\n",
       "      <td>4</td>\n",
       "    </tr>\n",
       "    <tr>\n",
       "      <th>2</th>\n",
       "      <td>28upjDakWVnHAgW2anm273</td>\n",
       "      <td>A Puro Dolor - Balada</td>\n",
       "      <td>Son By Four</td>\n",
       "      <td>1qyAl8T6GTcaOViaI7fs1j</td>\n",
       "      <td>2023-03-12T20:11:33.167Z</td>\n",
       "      <td>70</td>\n",
       "      <td>[{'start': 0.0, 'duration': 0.64975, 'confiden...</td>\n",
       "      <td>[puerto rican pop, tropical]</td>\n",
       "      <td>0.560</td>\n",
       "      <td>0.544</td>\n",
       "      <td>...</td>\n",
       "      <td>0.2030</td>\n",
       "      <td>0.3470</td>\n",
       "      <td>149.695</td>\n",
       "      <td>audio_features</td>\n",
       "      <td>28upjDakWVnHAgW2anm273</td>\n",
       "      <td>spotify:track:28upjDakWVnHAgW2anm273</td>\n",
       "      <td>https://api.spotify.com/v1/tracks/28upjDakWVnH...</td>\n",
       "      <td>https://api.spotify.com/v1/audio-analysis/28up...</td>\n",
       "      <td>210187</td>\n",
       "      <td>4</td>\n",
       "    </tr>\n",
       "    <tr>\n",
       "      <th>3</th>\n",
       "      <td>48svUiwMMYQRPyesVEnof1</td>\n",
       "      <td>Tabaco Y Chanel</td>\n",
       "      <td>Bacilos</td>\n",
       "      <td>1mux8L6xg2Cmrc7k0wQczl</td>\n",
       "      <td>2023-03-12T20:06:31.509Z</td>\n",
       "      <td>72</td>\n",
       "      <td>[{'start': 0.0, 'duration': 0.59873, 'confiden...</td>\n",
       "      <td>[colombian pop, latin alternative, latin pop, ...</td>\n",
       "      <td>0.643</td>\n",
       "      <td>0.576</td>\n",
       "      <td>...</td>\n",
       "      <td>0.2730</td>\n",
       "      <td>0.6990</td>\n",
       "      <td>97.022</td>\n",
       "      <td>audio_features</td>\n",
       "      <td>48svUiwMMYQRPyesVEnof1</td>\n",
       "      <td>spotify:track:48svUiwMMYQRPyesVEnof1</td>\n",
       "      <td>https://api.spotify.com/v1/tracks/48svUiwMMYQR...</td>\n",
       "      <td>https://api.spotify.com/v1/audio-analysis/48sv...</td>\n",
       "      <td>312400</td>\n",
       "      <td>4</td>\n",
       "    </tr>\n",
       "    <tr>\n",
       "      <th>4</th>\n",
       "      <td>7I7JbDv63ZJJsSi24DyJrz</td>\n",
       "      <td>Dancing With Our Hands Tied</td>\n",
       "      <td>Taylor Swift</td>\n",
       "      <td>06HL4z0CvFAxyc27GXpf02</td>\n",
       "      <td>2023-03-08T22:36:03.402Z</td>\n",
       "      <td>75</td>\n",
       "      <td>[{'start': 0.0, 'duration': 0.24277, 'confiden...</td>\n",
       "      <td>[pop]</td>\n",
       "      <td>0.624</td>\n",
       "      <td>0.691</td>\n",
       "      <td>...</td>\n",
       "      <td>0.1380</td>\n",
       "      <td>0.2840</td>\n",
       "      <td>160.024</td>\n",
       "      <td>audio_features</td>\n",
       "      <td>7I7JbDv63ZJJsSi24DyJrz</td>\n",
       "      <td>spotify:track:7I7JbDv63ZJJsSi24DyJrz</td>\n",
       "      <td>https://api.spotify.com/v1/tracks/7I7JbDv63ZJJ...</td>\n",
       "      <td>https://api.spotify.com/v1/audio-analysis/7I7J...</td>\n",
       "      <td>211507</td>\n",
       "      <td>4</td>\n",
       "    </tr>\n",
       "    <tr>\n",
       "      <th>5</th>\n",
       "      <td>4Ab3B61ot9fxWW3sGkuOuN</td>\n",
       "      <td>Cantemos</td>\n",
       "      <td>Coro Polifonico Municipal Cusco</td>\n",
       "      <td>69IMfxrkMekAj9ZjCoUBJ2</td>\n",
       "      <td>None</td>\n",
       "      <td>5</td>\n",
       "      <td>[{'start': 0.0, 'duration': 0.12776, 'confiden...</td>\n",
       "      <td>[]</td>\n",
       "      <td>0.492</td>\n",
       "      <td>0.309</td>\n",
       "      <td>...</td>\n",
       "      <td>0.1840</td>\n",
       "      <td>0.8170</td>\n",
       "      <td>161.806</td>\n",
       "      <td>audio_features</td>\n",
       "      <td>4Ab3B61ot9fxWW3sGkuOuN</td>\n",
       "      <td>spotify:track:4Ab3B61ot9fxWW3sGkuOuN</td>\n",
       "      <td>https://api.spotify.com/v1/tracks/4Ab3B61ot9fx...</td>\n",
       "      <td>https://api.spotify.com/v1/audio-analysis/4Ab3...</td>\n",
       "      <td>147651</td>\n",
       "      <td>4</td>\n",
       "    </tr>\n",
       "    <tr>\n",
       "      <th>6</th>\n",
       "      <td>0fHTVPRRKmWaRuIwrsNTMp</td>\n",
       "      <td>La parte de adelante</td>\n",
       "      <td>Andrés Calamaro</td>\n",
       "      <td>3tAICgiSR5PfYY4B8qsoAU</td>\n",
       "      <td>None</td>\n",
       "      <td>64</td>\n",
       "      <td>[{'start': 0.0, 'duration': 0.12757, 'confiden...</td>\n",
       "      <td>[argentine rock, cantautor, latin alternative,...</td>\n",
       "      <td>0.591</td>\n",
       "      <td>0.777</td>\n",
       "      <td>...</td>\n",
       "      <td>0.3830</td>\n",
       "      <td>0.6210</td>\n",
       "      <td>123.264</td>\n",
       "      <td>audio_features</td>\n",
       "      <td>0fHTVPRRKmWaRuIwrsNTMp</td>\n",
       "      <td>spotify:track:0fHTVPRRKmWaRuIwrsNTMp</td>\n",
       "      <td>https://api.spotify.com/v1/tracks/0fHTVPRRKmWa...</td>\n",
       "      <td>https://api.spotify.com/v1/audio-analysis/0fHT...</td>\n",
       "      <td>261627</td>\n",
       "      <td>4</td>\n",
       "    </tr>\n",
       "    <tr>\n",
       "      <th>7</th>\n",
       "      <td>0oapnyKN8aw6G561waswRP</td>\n",
       "      <td>Niño del Alma</td>\n",
       "      <td>Los Niños Cantores De Navidad</td>\n",
       "      <td>3T8Is0eQTVrDD5bzS1QLUh</td>\n",
       "      <td>None</td>\n",
       "      <td>6</td>\n",
       "      <td>[{'start': 0.0, 'duration': 0.18, 'confidence'...</td>\n",
       "      <td>[]</td>\n",
       "      <td>0.415</td>\n",
       "      <td>0.685</td>\n",
       "      <td>...</td>\n",
       "      <td>0.1970</td>\n",
       "      <td>0.7570</td>\n",
       "      <td>149.834</td>\n",
       "      <td>audio_features</td>\n",
       "      <td>0oapnyKN8aw6G561waswRP</td>\n",
       "      <td>spotify:track:0oapnyKN8aw6G561waswRP</td>\n",
       "      <td>https://api.spotify.com/v1/tracks/0oapnyKN8aw6...</td>\n",
       "      <td>https://api.spotify.com/v1/audio-analysis/0oap...</td>\n",
       "      <td>125947</td>\n",
       "      <td>3</td>\n",
       "    </tr>\n",
       "    <tr>\n",
       "      <th>8</th>\n",
       "      <td>1v6e02JiKSfWvViozwzZNL</td>\n",
       "      <td>Noel Piano</td>\n",
       "      <td>Coral Infantil de Navidad</td>\n",
       "      <td>5mqsa90HnYKlFvTy2AcKZ5</td>\n",
       "      <td>None</td>\n",
       "      <td>0</td>\n",
       "      <td>[{'start': 0.0, 'duration': 0.57478, 'confiden...</td>\n",
       "      <td>[villancicos]</td>\n",
       "      <td>0.574</td>\n",
       "      <td>0.442</td>\n",
       "      <td>...</td>\n",
       "      <td>0.3500</td>\n",
       "      <td>0.0389</td>\n",
       "      <td>112.839</td>\n",
       "      <td>audio_features</td>\n",
       "      <td>1v6e02JiKSfWvViozwzZNL</td>\n",
       "      <td>spotify:track:1v6e02JiKSfWvViozwzZNL</td>\n",
       "      <td>https://api.spotify.com/v1/tracks/1v6e02JiKSfW...</td>\n",
       "      <td>https://api.spotify.com/v1/audio-analysis/1v6e...</td>\n",
       "      <td>80056</td>\n",
       "      <td>3</td>\n",
       "    </tr>\n",
       "    <tr>\n",
       "      <th>9</th>\n",
       "      <td>5SvWpIspS1capu4FD7ewf2</td>\n",
       "      <td>Ven a Cantar</td>\n",
       "      <td>Villancicos de Navidad y Canciones de Navidad</td>\n",
       "      <td>2FHN0lFkoif5aZHW55PNKD</td>\n",
       "      <td>None</td>\n",
       "      <td>31</td>\n",
       "      <td>[{'start': 0.0, 'duration': 0.16245, 'confiden...</td>\n",
       "      <td>[villancicos]</td>\n",
       "      <td>0.728</td>\n",
       "      <td>0.471</td>\n",
       "      <td>...</td>\n",
       "      <td>0.0988</td>\n",
       "      <td>0.6660</td>\n",
       "      <td>117.054</td>\n",
       "      <td>audio_features</td>\n",
       "      <td>5SvWpIspS1capu4FD7ewf2</td>\n",
       "      <td>spotify:track:5SvWpIspS1capu4FD7ewf2</td>\n",
       "      <td>https://api.spotify.com/v1/tracks/5SvWpIspS1ca...</td>\n",
       "      <td>https://api.spotify.com/v1/audio-analysis/5SvW...</td>\n",
       "      <td>245320</td>\n",
       "      <td>4</td>\n",
       "    </tr>\n",
       "  </tbody>\n",
       "</table>\n",
       "<p>10 rows × 26 columns</p>\n",
       "</div>"
      ],
      "text/plain": [
       "                 track_id                           name  \\\n",
       "0  0WtM2NBVQNNJLh6scP13H8  Calm Down (with Selena Gomez)   \n",
       "1  0c8f8b76ThPP2MInXEZyTY              El Sol No Regresa   \n",
       "2  28upjDakWVnHAgW2anm273          A Puro Dolor - Balada   \n",
       "3  48svUiwMMYQRPyesVEnof1                Tabaco Y Chanel   \n",
       "4  7I7JbDv63ZJJsSi24DyJrz    Dancing With Our Hands Tied   \n",
       "5  4Ab3B61ot9fxWW3sGkuOuN                       Cantemos   \n",
       "6  0fHTVPRRKmWaRuIwrsNTMp           La parte de adelante   \n",
       "7  0oapnyKN8aw6G561waswRP                  Niño del Alma   \n",
       "8  1v6e02JiKSfWvViozwzZNL                     Noel Piano   \n",
       "9  5SvWpIspS1capu4FD7ewf2                   Ven a Cantar   \n",
       "\n",
       "                                          artist               artist_id  \\\n",
       "0                                           Rema  46pWGuE3dSwY3bMMXGBvVS   \n",
       "1                             La Quinta Estacion  7FZj349hdLfD6qzXkJLuAh   \n",
       "2                                    Son By Four  1qyAl8T6GTcaOViaI7fs1j   \n",
       "3                                        Bacilos  1mux8L6xg2Cmrc7k0wQczl   \n",
       "4                                   Taylor Swift  06HL4z0CvFAxyc27GXpf02   \n",
       "5                Coro Polifonico Municipal Cusco  69IMfxrkMekAj9ZjCoUBJ2   \n",
       "6                                Andrés Calamaro  3tAICgiSR5PfYY4B8qsoAU   \n",
       "7                  Los Niños Cantores De Navidad  3T8Is0eQTVrDD5bzS1QLUh   \n",
       "8                      Coral Infantil de Navidad  5mqsa90HnYKlFvTy2AcKZ5   \n",
       "9  Villancicos de Navidad y Canciones de Navidad  2FHN0lFkoif5aZHW55PNKD   \n",
       "\n",
       "                  played_at  popularity  \\\n",
       "0  2023-04-06T00:17:22.783Z          96   \n",
       "1  2023-03-12T20:13:16.416Z          60   \n",
       "2  2023-03-12T20:11:33.167Z          70   \n",
       "3  2023-03-12T20:06:31.509Z          72   \n",
       "4  2023-03-08T22:36:03.402Z          75   \n",
       "5                      None           5   \n",
       "6                      None          64   \n",
       "7                      None           6   \n",
       "8                      None           0   \n",
       "9                      None          31   \n",
       "\n",
       "                                          song_array  \\\n",
       "0  [{'start': 0.0, 'duration': 0.25447, 'confiden...   \n",
       "1  [{'start': 0.0, 'duration': 0.15043, 'confiden...   \n",
       "2  [{'start': 0.0, 'duration': 0.64975, 'confiden...   \n",
       "3  [{'start': 0.0, 'duration': 0.59873, 'confiden...   \n",
       "4  [{'start': 0.0, 'duration': 0.24277, 'confiden...   \n",
       "5  [{'start': 0.0, 'duration': 0.12776, 'confiden...   \n",
       "6  [{'start': 0.0, 'duration': 0.12757, 'confiden...   \n",
       "7  [{'start': 0.0, 'duration': 0.18, 'confidence'...   \n",
       "8  [{'start': 0.0, 'duration': 0.57478, 'confiden...   \n",
       "9  [{'start': 0.0, 'duration': 0.16245, 'confiden...   \n",
       "\n",
       "                                              genres  danceability  energy  \\\n",
       "0                                     [nigerian pop]         0.801   0.806   \n",
       "1     [latin arena pop, latin pop, spanish pop rock]         0.579   0.898   \n",
       "2                       [puerto rican pop, tropical]         0.560   0.544   \n",
       "3  [colombian pop, latin alternative, latin pop, ...         0.643   0.576   \n",
       "4                                              [pop]         0.624   0.691   \n",
       "5                                                 []         0.492   0.309   \n",
       "6  [argentine rock, cantautor, latin alternative,...         0.591   0.777   \n",
       "7                                                 []         0.415   0.685   \n",
       "8                                      [villancicos]         0.574   0.442   \n",
       "9                                      [villancicos]         0.728   0.471   \n",
       "\n",
       "   ...  liveness  valence    tempo            type                      id  \\\n",
       "0  ...    0.1140   0.8020  106.999  audio_features  0WtM2NBVQNNJLh6scP13H8   \n",
       "1  ...    0.2130   0.6350  127.876  audio_features  0c8f8b76ThPP2MInXEZyTY   \n",
       "2  ...    0.2030   0.3470  149.695  audio_features  28upjDakWVnHAgW2anm273   \n",
       "3  ...    0.2730   0.6990   97.022  audio_features  48svUiwMMYQRPyesVEnof1   \n",
       "4  ...    0.1380   0.2840  160.024  audio_features  7I7JbDv63ZJJsSi24DyJrz   \n",
       "5  ...    0.1840   0.8170  161.806  audio_features  4Ab3B61ot9fxWW3sGkuOuN   \n",
       "6  ...    0.3830   0.6210  123.264  audio_features  0fHTVPRRKmWaRuIwrsNTMp   \n",
       "7  ...    0.1970   0.7570  149.834  audio_features  0oapnyKN8aw6G561waswRP   \n",
       "8  ...    0.3500   0.0389  112.839  audio_features  1v6e02JiKSfWvViozwzZNL   \n",
       "9  ...    0.0988   0.6660  117.054  audio_features  5SvWpIspS1capu4FD7ewf2   \n",
       "\n",
       "                                    uri  \\\n",
       "0  spotify:track:0WtM2NBVQNNJLh6scP13H8   \n",
       "1  spotify:track:0c8f8b76ThPP2MInXEZyTY   \n",
       "2  spotify:track:28upjDakWVnHAgW2anm273   \n",
       "3  spotify:track:48svUiwMMYQRPyesVEnof1   \n",
       "4  spotify:track:7I7JbDv63ZJJsSi24DyJrz   \n",
       "5  spotify:track:4Ab3B61ot9fxWW3sGkuOuN   \n",
       "6  spotify:track:0fHTVPRRKmWaRuIwrsNTMp   \n",
       "7  spotify:track:0oapnyKN8aw6G561waswRP   \n",
       "8  spotify:track:1v6e02JiKSfWvViozwzZNL   \n",
       "9  spotify:track:5SvWpIspS1capu4FD7ewf2   \n",
       "\n",
       "                                          track_href  \\\n",
       "0  https://api.spotify.com/v1/tracks/0WtM2NBVQNNJ...   \n",
       "1  https://api.spotify.com/v1/tracks/0c8f8b76ThPP...   \n",
       "2  https://api.spotify.com/v1/tracks/28upjDakWVnH...   \n",
       "3  https://api.spotify.com/v1/tracks/48svUiwMMYQR...   \n",
       "4  https://api.spotify.com/v1/tracks/7I7JbDv63ZJJ...   \n",
       "5  https://api.spotify.com/v1/tracks/4Ab3B61ot9fx...   \n",
       "6  https://api.spotify.com/v1/tracks/0fHTVPRRKmWa...   \n",
       "7  https://api.spotify.com/v1/tracks/0oapnyKN8aw6...   \n",
       "8  https://api.spotify.com/v1/tracks/1v6e02JiKSfW...   \n",
       "9  https://api.spotify.com/v1/tracks/5SvWpIspS1ca...   \n",
       "\n",
       "                                        analysis_url  duration_ms  \\\n",
       "0  https://api.spotify.com/v1/audio-analysis/0WtM...       239318   \n",
       "1  https://api.spotify.com/v1/audio-analysis/0c8f...       228107   \n",
       "2  https://api.spotify.com/v1/audio-analysis/28up...       210187   \n",
       "3  https://api.spotify.com/v1/audio-analysis/48sv...       312400   \n",
       "4  https://api.spotify.com/v1/audio-analysis/7I7J...       211507   \n",
       "5  https://api.spotify.com/v1/audio-analysis/4Ab3...       147651   \n",
       "6  https://api.spotify.com/v1/audio-analysis/0fHT...       261627   \n",
       "7  https://api.spotify.com/v1/audio-analysis/0oap...       125947   \n",
       "8  https://api.spotify.com/v1/audio-analysis/1v6e...        80056   \n",
       "9  https://api.spotify.com/v1/audio-analysis/5SvW...       245320   \n",
       "\n",
       "  time_signature  \n",
       "0              4  \n",
       "1              4  \n",
       "2              4  \n",
       "3              4  \n",
       "4              4  \n",
       "5              4  \n",
       "6              4  \n",
       "7              3  \n",
       "8              3  \n",
       "9              4  \n",
       "\n",
       "[10 rows x 26 columns]"
      ]
     },
     "metadata": {},
     "output_type": "display_data"
    }
   ],
   "source": [
    "display(df[0])"
   ]
  },
  {
   "cell_type": "code",
   "execution_count": 6,
   "metadata": {},
   "outputs": [
    {
     "data": {
      "text/plain": [
       "Index(['track_id', 'name', 'artist', 'artist_id', 'played_at', 'popularity',\n",
       "       'song_array', 'genres', 'danceability', 'energy', 'key', 'loudness',\n",
       "       'mode', 'speechiness', 'acousticness', 'instrumentalness', 'liveness',\n",
       "       'valence', 'tempo', 'type', 'id', 'uri', 'track_href', 'analysis_url',\n",
       "       'duration_ms', 'time_signature'],\n",
       "      dtype='object')"
      ]
     },
     "execution_count": 6,
     "metadata": {},
     "output_type": "execute_result"
    }
   ],
   "source": [
    "df[0].columns"
   ]
  },
  {
   "cell_type": "code",
   "execution_count": 7,
   "metadata": {},
   "outputs": [
    {
     "data": {
      "text/plain": [
       "Index(['track_id', 'artist_familiarity', 'artist_hotttnesss', 'loudness',\n",
       "       'tempo', 'popularity', 'pitch_network_average_degree',\n",
       "       'pitch_network_entropy', 'pitch_network_mean_clustering_coeff',\n",
       "       'timbre_00', 'timbre_01', 'timbre_02', 'timbre_03', 'timbre_04',\n",
       "       'timbre_05', 'timbre_06', 'timbre_07', 'timbre_08', 'timbre_09',\n",
       "       'timbre_10', 'timbre_11', 'pitch_network', 'pitch_codewords',\n",
       "       'average_degree', 'graph_entropy', 'average_clustering'],\n",
       "      dtype='object')"
      ]
     },
     "execution_count": 7,
     "metadata": {},
     "output_type": "execute_result"
    }
   ],
   "source": [
    "df[1].columns"
   ]
  },
  {
   "cell_type": "markdown",
   "metadata": {},
   "source": [
    "## Getting recomendatios from MSD dataset"
   ]
  },
  {
   "cell_type": "code",
   "execution_count": 8,
   "metadata": {},
   "outputs": [],
   "source": [
    "msd_df = pd.read_pickle(r\"C:\\Users\\DahianaMejia\\OneDrive - Drill2Frac, LLC\\Documents\\MasterComputerScience\\CSE6242\\ProjectTeam31\\cse-6242-project\\diver\\models\\msd_popularity.pkl\")\n",
    "#msd_df = pd.read_pickle(os.path.join(\"diver\", \"models\",\"msd.pkl\"))\n",
    "msd = MSDModel(msd_df)"
   ]
  },
  {
   "cell_type": "code",
   "execution_count": 9,
   "metadata": {},
   "outputs": [
    {
     "data": {
      "text/plain": [
       "Index(['msd_id', 'artist_id', 'artist_name', 'artist_familiarity',\n",
       "       'artist_hotttnesss', 'song_id', 'song_title', 'song_hotttnesss', 'year',\n",
       "       'loudness', 'energy', 'danceability', 'tempo',\n",
       "       'pitch_network_average_degree', 'pitch_network_entropy',\n",
       "       'pitch_network_mean_clustering_coeff', 'timbre_00', 'timbre_01',\n",
       "       'timbre_02', 'timbre_03', 'timbre_04', 'timbre_05', 'timbre_06',\n",
       "       'timbre_07', 'timbre_08', 'timbre_09', 'timbre_10', 'timbre_11',\n",
       "       'artist_count', 'popularity'],\n",
       "      dtype='object')"
      ]
     },
     "execution_count": 9,
     "metadata": {},
     "output_type": "execute_result"
    }
   ],
   "source": [
    "msd_df.columns"
   ]
  },
  {
   "cell_type": "code",
   "execution_count": 25,
   "metadata": {},
   "outputs": [],
   "source": [
    "# print(df[1].head(5))\n",
    "track_for_recs = df[1].iloc[0:1]\n",
    "recs = msd.find_k_neighbors(track_for_recs)\n"
   ]
  },
  {
   "cell_type": "code",
   "execution_count": 26,
   "metadata": {},
   "outputs": [
    {
     "data": {
      "text/html": [
       "<div>\n",
       "<style scoped>\n",
       "    .dataframe tbody tr th:only-of-type {\n",
       "        vertical-align: middle;\n",
       "    }\n",
       "\n",
       "    .dataframe tbody tr th {\n",
       "        vertical-align: top;\n",
       "    }\n",
       "\n",
       "    .dataframe thead th {\n",
       "        text-align: right;\n",
       "    }\n",
       "</style>\n",
       "<table border=\"1\" class=\"dataframe\">\n",
       "  <thead>\n",
       "    <tr style=\"text-align: right;\">\n",
       "      <th></th>\n",
       "      <th>track_id</th>\n",
       "      <th>artist_familiarity</th>\n",
       "      <th>artist_hotttnesss</th>\n",
       "      <th>loudness</th>\n",
       "      <th>tempo</th>\n",
       "      <th>popularity</th>\n",
       "      <th>pitch_network_average_degree</th>\n",
       "      <th>pitch_network_entropy</th>\n",
       "      <th>pitch_network_mean_clustering_coeff</th>\n",
       "      <th>timbre_00</th>\n",
       "      <th>...</th>\n",
       "      <th>timbre_07</th>\n",
       "      <th>timbre_08</th>\n",
       "      <th>timbre_09</th>\n",
       "      <th>timbre_10</th>\n",
       "      <th>timbre_11</th>\n",
       "      <th>pitch_network</th>\n",
       "      <th>pitch_codewords</th>\n",
       "      <th>average_degree</th>\n",
       "      <th>graph_entropy</th>\n",
       "      <th>average_clustering</th>\n",
       "    </tr>\n",
       "  </thead>\n",
       "  <tbody>\n",
       "    <tr>\n",
       "      <th>0</th>\n",
       "      <td>0WtM2NBVQNNJLh6scP13H8</td>\n",
       "      <td>NaN</td>\n",
       "      <td>NaN</td>\n",
       "      <td>-5.206</td>\n",
       "      <td>106.999</td>\n",
       "      <td>96</td>\n",
       "      <td>3.298344</td>\n",
       "      <td>0.405854</td>\n",
       "      <td>0.358189</td>\n",
       "      <td>47.272856</td>\n",
       "      <td>...</td>\n",
       "      <td>-6.291379</td>\n",
       "      <td>1.561861</td>\n",
       "      <td>-4.598316</td>\n",
       "      <td>-8.809918</td>\n",
       "      <td>3.949928</td>\n",
       "      <td>(2, 2)\\t1\\n  (2, 3)\\t1\\n  (2, 8)\\t1\\n  (2, 1...</td>\n",
       "      <td>[2064, 256, 2559, 2048, 2304, 256, 256, 2330, ...</td>\n",
       "      <td>3.298344</td>\n",
       "      <td>0.405854</td>\n",
       "      <td>0.358189</td>\n",
       "    </tr>\n",
       "  </tbody>\n",
       "</table>\n",
       "<p>1 rows × 26 columns</p>\n",
       "</div>"
      ],
      "text/plain": [
       "                 track_id  artist_familiarity  artist_hotttnesss  loudness  \\\n",
       "0  0WtM2NBVQNNJLh6scP13H8                 NaN                NaN    -5.206   \n",
       "\n",
       "     tempo  popularity  pitch_network_average_degree  pitch_network_entropy  \\\n",
       "0  106.999          96                      3.298344               0.405854   \n",
       "\n",
       "   pitch_network_mean_clustering_coeff  timbre_00  ...  timbre_07  timbre_08  \\\n",
       "0                             0.358189  47.272856  ...  -6.291379   1.561861   \n",
       "\n",
       "   timbre_09  timbre_10  timbre_11  \\\n",
       "0  -4.598316  -8.809918   3.949928   \n",
       "\n",
       "                                       pitch_network  \\\n",
       "0    (2, 2)\\t1\\n  (2, 3)\\t1\\n  (2, 8)\\t1\\n  (2, 1...   \n",
       "\n",
       "                                     pitch_codewords  average_degree  \\\n",
       "0  [2064, 256, 2559, 2048, 2304, 256, 256, 2330, ...        3.298344   \n",
       "\n",
       "   graph_entropy  average_clustering  \n",
       "0       0.405854            0.358189  \n",
       "\n",
       "[1 rows x 26 columns]"
      ]
     },
     "metadata": {},
     "output_type": "display_data"
    }
   ],
   "source": [
    "display(df[1].iloc[0:1])"
   ]
  },
  {
   "cell_type": "code",
   "execution_count": 12,
   "metadata": {},
   "outputs": [
    {
     "name": "stdout",
     "output_type": "stream",
     "text": [
      "Index(['msd_id', 'artist_id', 'artist_name', 'artist_familiarity',\n",
      "       'artist_hotttnesss', 'song_id', 'song_title', 'song_hotttnesss', 'year',\n",
      "       'loudness', 'energy', 'danceability', 'tempo',\n",
      "       'pitch_network_average_degree', 'pitch_network_entropy',\n",
      "       'pitch_network_mean_clustering_coeff', 'timbre_00', 'timbre_01',\n",
      "       'timbre_02', 'timbre_03', 'timbre_04', 'timbre_05', 'timbre_06',\n",
      "       'timbre_07', 'timbre_08', 'timbre_09', 'timbre_10', 'timbre_11',\n",
      "       'artist_count', 'popularity'],\n",
      "      dtype='object')\n",
      "830619                        Jack Johnson\n",
      "978156                          Earl Klugh\n",
      "532069                         Canned Heat\n",
      "738411                     Daniel Johnston\n",
      "991847                        Squarepusher\n",
      "118406              Sly & The Family Stone\n",
      "389810                              Prince\n",
      "97408     Frankie Valli & The Four Seasons\n",
      "453744                           Morrissey\n",
      "395237                            Bee Gees\n",
      "Name: artist_name, dtype: object\n"
     ]
    },
    {
     "data": {
      "text/plain": [
       "830619                                Moonshine\n",
       "978156                             Heart String\n",
       "532069                             Future Blues\n",
       "738411                                Foxy Girl\n",
       "991847                              Bubble Life\n",
       "118406                                     Poet\n",
       "389810    Gotta Broken Heart Again (LP Version)\n",
       "97408                Who Loves You (LP Version)\n",
       "453744         I Know It's Gonna Happen Someday\n",
       "395237    Children Of The World (Album Version)\n",
       "Name: song_title, dtype: object"
      ]
     },
     "metadata": {},
     "output_type": "display_data"
    },
    {
     "data": {
      "text/plain": [
       "830619    0.664031\n",
       "978156    0.589439\n",
       "532069    0.560092\n",
       "738411    0.460485\n",
       "991847    0.596841\n",
       "118406    0.610231\n",
       "389810    0.583401\n",
       "97408     0.666245\n",
       "453744    0.619268\n",
       "395237    0.505487\n",
       "Name: song_hotttnesss, dtype: float64"
      ]
     },
     "metadata": {},
     "output_type": "display_data"
    }
   ],
   "source": [
    "print(recs[0].columns)\n",
    "print(recs[0]['artist_name'])\n",
    "display(recs[0]['song_title'])\n",
    "display(recs[0]['song_hotttnesss'])"
   ]
  },
  {
   "cell_type": "code",
   "execution_count": 13,
   "metadata": {},
   "outputs": [
    {
     "data": {
      "text/plain": [
       "830619    0.115514\n",
       "978156    0.169331\n",
       "532069    0.213232\n",
       "738411    0.264882\n",
       "991847    0.081155\n",
       "118406    0.142854\n",
       "389810    0.181602\n",
       "97408     0.143100\n",
       "453744    0.184519\n",
       "395237    0.089890\n",
       "Name: pitch_network_mean_clustering_coeff, dtype: float64"
      ]
     },
     "metadata": {},
     "output_type": "display_data"
    },
    {
     "data": {
      "text/plain": [
       "830619    178.895\n",
       "978156    173.209\n",
       "532069    176.729\n",
       "738411    132.393\n",
       "991847    164.720\n",
       "118406    164.103\n",
       "389810    146.738\n",
       "97408     137.265\n",
       "453744    133.548\n",
       "395237    158.372\n",
       "Name: tempo, dtype: float64"
      ]
     },
     "metadata": {},
     "output_type": "display_data"
    }
   ],
   "source": [
    "display(recs[0][\"pitch_network_mean_clustering_coeff\"])\n",
    "display(recs[0][\"tempo\"])"
   ]
  },
  {
   "cell_type": "markdown",
   "metadata": {},
   "source": [
    "## Getting recommendations from Spotify"
   ]
  },
  {
   "cell_type": "code",
   "execution_count": 37,
   "metadata": {},
   "outputs": [
    {
     "name": "stdout",
     "output_type": "stream",
     "text": [
      "0WtM2NBVQNNJLh6scP13H8\n"
     ]
    },
    {
     "data": {
      "text/plain": [
       "['46pWGuE3dSwY3bMMXGBvVS']"
      ]
     },
     "execution_count": 37,
     "metadata": {},
     "output_type": "execute_result"
    }
   ],
   "source": [
    "# Define your seed artists as a list of Spotify artist IDs\n",
    "track_id_for_recs = track_for_recs['track_id']\n",
    "print(track_id_for_recs[0])\n",
    "seed_artists = df[0][df[0]['track_id']==track_id_for_recs[0]]['artist_id'].to_list()\n",
    "seed_artists"
   ]
  },
  {
   "cell_type": "code",
   "execution_count": 60,
   "metadata": {},
   "outputs": [
    {
     "data": {
      "text/html": [
       "<div>\n",
       "<style scoped>\n",
       "    .dataframe tbody tr th:only-of-type {\n",
       "        vertical-align: middle;\n",
       "    }\n",
       "\n",
       "    .dataframe tbody tr th {\n",
       "        vertical-align: top;\n",
       "    }\n",
       "\n",
       "    .dataframe thead th {\n",
       "        text-align: right;\n",
       "    }\n",
       "</style>\n",
       "<table border=\"1\" class=\"dataframe\">\n",
       "  <thead>\n",
       "    <tr style=\"text-align: right;\">\n",
       "      <th></th>\n",
       "      <th>track_id</th>\n",
       "      <th>name</th>\n",
       "      <th>artist</th>\n",
       "      <th>artist_id</th>\n",
       "      <th>popularity</th>\n",
       "      <th>genres</th>\n",
       "      <th>danceability</th>\n",
       "      <th>energy</th>\n",
       "      <th>key</th>\n",
       "      <th>loudness</th>\n",
       "      <th>...</th>\n",
       "      <th>liveness</th>\n",
       "      <th>valence</th>\n",
       "      <th>tempo</th>\n",
       "      <th>type</th>\n",
       "      <th>id</th>\n",
       "      <th>uri</th>\n",
       "      <th>track_href</th>\n",
       "      <th>analysis_url</th>\n",
       "      <th>duration_ms</th>\n",
       "      <th>time_signature</th>\n",
       "    </tr>\n",
       "  </thead>\n",
       "  <tbody>\n",
       "    <tr>\n",
       "      <th>0</th>\n",
       "      <td>2xoVDDYw363XRSSmyTLDTt</td>\n",
       "      <td>Rewind</td>\n",
       "      <td>Rema</td>\n",
       "      <td>46pWGuE3dSwY3bMMXGBvVS</td>\n",
       "      <td>40</td>\n",
       "      <td>[nigerian pop]</td>\n",
       "      <td>0.707</td>\n",
       "      <td>0.693</td>\n",
       "      <td>4</td>\n",
       "      <td>-7.760</td>\n",
       "      <td>...</td>\n",
       "      <td>0.1180</td>\n",
       "      <td>0.5650</td>\n",
       "      <td>95.967</td>\n",
       "      <td>audio_features</td>\n",
       "      <td>2xoVDDYw363XRSSmyTLDTt</td>\n",
       "      <td>spotify:track:2xoVDDYw363XRSSmyTLDTt</td>\n",
       "      <td>https://api.spotify.com/v1/tracks/2xoVDDYw363X...</td>\n",
       "      <td>https://api.spotify.com/v1/audio-analysis/2xoV...</td>\n",
       "      <td>152301</td>\n",
       "      <td>4</td>\n",
       "    </tr>\n",
       "    <tr>\n",
       "      <th>1</th>\n",
       "      <td>7kxtdxIGYOlqkkJmtb2lTN</td>\n",
       "      <td>Roadside (+234 Remix) [feat. Rema &amp; Ayra Starr]</td>\n",
       "      <td>Mahalia</td>\n",
       "      <td>16rCzZOMQX7P8Kmn5YKexI</td>\n",
       "      <td>40</td>\n",
       "      <td>[alternative r&amp;b, indie anthem-folk, uk contem...</td>\n",
       "      <td>0.597</td>\n",
       "      <td>0.755</td>\n",
       "      <td>5</td>\n",
       "      <td>-5.046</td>\n",
       "      <td>...</td>\n",
       "      <td>0.1170</td>\n",
       "      <td>0.6690</td>\n",
       "      <td>100.069</td>\n",
       "      <td>audio_features</td>\n",
       "      <td>7kxtdxIGYOlqkkJmtb2lTN</td>\n",
       "      <td>spotify:track:7kxtdxIGYOlqkkJmtb2lTN</td>\n",
       "      <td>https://api.spotify.com/v1/tracks/7kxtdxIGYOlq...</td>\n",
       "      <td>https://api.spotify.com/v1/audio-analysis/7kxt...</td>\n",
       "      <td>198706</td>\n",
       "      <td>4</td>\n",
       "    </tr>\n",
       "    <tr>\n",
       "      <th>2</th>\n",
       "      <td>53qfjPTEB6DQPFoFjLigI6</td>\n",
       "      <td>Bad Girl</td>\n",
       "      <td>Idahams</td>\n",
       "      <td>6jPVueiSr0OHgVetuTuv5O</td>\n",
       "      <td>40</td>\n",
       "      <td>[afroswing]</td>\n",
       "      <td>0.677</td>\n",
       "      <td>0.580</td>\n",
       "      <td>4</td>\n",
       "      <td>-7.367</td>\n",
       "      <td>...</td>\n",
       "      <td>0.1010</td>\n",
       "      <td>0.4800</td>\n",
       "      <td>126.643</td>\n",
       "      <td>audio_features</td>\n",
       "      <td>53qfjPTEB6DQPFoFjLigI6</td>\n",
       "      <td>spotify:track:53qfjPTEB6DQPFoFjLigI6</td>\n",
       "      <td>https://api.spotify.com/v1/tracks/53qfjPTEB6DQ...</td>\n",
       "      <td>https://api.spotify.com/v1/audio-analysis/53qf...</td>\n",
       "      <td>194526</td>\n",
       "      <td>5</td>\n",
       "    </tr>\n",
       "    <tr>\n",
       "      <th>3</th>\n",
       "      <td>3cvHkBpkdzLNttIkvKki5n</td>\n",
       "      <td>Dangerous</td>\n",
       "      <td>Blaq Jerzee</td>\n",
       "      <td>4on7a4BKixLl1rSlEcaY8Y</td>\n",
       "      <td>40</td>\n",
       "      <td>[nigerian pop]</td>\n",
       "      <td>0.694</td>\n",
       "      <td>0.697</td>\n",
       "      <td>10</td>\n",
       "      <td>-5.419</td>\n",
       "      <td>...</td>\n",
       "      <td>0.1120</td>\n",
       "      <td>0.8580</td>\n",
       "      <td>91.007</td>\n",
       "      <td>audio_features</td>\n",
       "      <td>3cvHkBpkdzLNttIkvKki5n</td>\n",
       "      <td>spotify:track:3cvHkBpkdzLNttIkvKki5n</td>\n",
       "      <td>https://api.spotify.com/v1/tracks/3cvHkBpkdzLN...</td>\n",
       "      <td>https://api.spotify.com/v1/audio-analysis/3cvH...</td>\n",
       "      <td>181978</td>\n",
       "      <td>4</td>\n",
       "    </tr>\n",
       "    <tr>\n",
       "      <th>4</th>\n",
       "      <td>210hDS6A9pznApJFY8SkpH</td>\n",
       "      <td>Control</td>\n",
       "      <td>Gyakie</td>\n",
       "      <td>1zO1FWFxxNUCqUuGATxZQZ</td>\n",
       "      <td>40</td>\n",
       "      <td>[afro dancehall, afro r&amp;b, nigerian pop]</td>\n",
       "      <td>0.821</td>\n",
       "      <td>0.666</td>\n",
       "      <td>5</td>\n",
       "      <td>-6.853</td>\n",
       "      <td>...</td>\n",
       "      <td>0.1010</td>\n",
       "      <td>0.3650</td>\n",
       "      <td>103.039</td>\n",
       "      <td>audio_features</td>\n",
       "      <td>210hDS6A9pznApJFY8SkpH</td>\n",
       "      <td>spotify:track:210hDS6A9pznApJFY8SkpH</td>\n",
       "      <td>https://api.spotify.com/v1/tracks/210hDS6A9pzn...</td>\n",
       "      <td>https://api.spotify.com/v1/audio-analysis/210h...</td>\n",
       "      <td>154593</td>\n",
       "      <td>4</td>\n",
       "    </tr>\n",
       "    <tr>\n",
       "      <th>5</th>\n",
       "      <td>36AXjKaxwnDbBYaguLOiXA</td>\n",
       "      <td>Practice Patience</td>\n",
       "      <td>YKB</td>\n",
       "      <td>2f8rjDwhSy9IDL6sB6BEEE</td>\n",
       "      <td>40</td>\n",
       "      <td>[nigerian hip hop, nigerian pop]</td>\n",
       "      <td>0.638</td>\n",
       "      <td>0.665</td>\n",
       "      <td>8</td>\n",
       "      <td>-6.669</td>\n",
       "      <td>...</td>\n",
       "      <td>0.0781</td>\n",
       "      <td>0.7190</td>\n",
       "      <td>195.870</td>\n",
       "      <td>audio_features</td>\n",
       "      <td>36AXjKaxwnDbBYaguLOiXA</td>\n",
       "      <td>spotify:track:36AXjKaxwnDbBYaguLOiXA</td>\n",
       "      <td>https://api.spotify.com/v1/tracks/36AXjKaxwnDb...</td>\n",
       "      <td>https://api.spotify.com/v1/audio-analysis/36AX...</td>\n",
       "      <td>216510</td>\n",
       "      <td>4</td>\n",
       "    </tr>\n",
       "    <tr>\n",
       "      <th>6</th>\n",
       "      <td>6khF6tGGrGcsQIfA4LP7P0</td>\n",
       "      <td>Boulevard</td>\n",
       "      <td>Rema</td>\n",
       "      <td>46pWGuE3dSwY3bMMXGBvVS</td>\n",
       "      <td>40</td>\n",
       "      <td>[nigerian pop]</td>\n",
       "      <td>0.634</td>\n",
       "      <td>0.659</td>\n",
       "      <td>7</td>\n",
       "      <td>-6.082</td>\n",
       "      <td>...</td>\n",
       "      <td>0.1270</td>\n",
       "      <td>0.0931</td>\n",
       "      <td>120.006</td>\n",
       "      <td>audio_features</td>\n",
       "      <td>6khF6tGGrGcsQIfA4LP7P0</td>\n",
       "      <td>spotify:track:6khF6tGGrGcsQIfA4LP7P0</td>\n",
       "      <td>https://api.spotify.com/v1/tracks/6khF6tGGrGcs...</td>\n",
       "      <td>https://api.spotify.com/v1/audio-analysis/6khF...</td>\n",
       "      <td>112000</td>\n",
       "      <td>4</td>\n",
       "    </tr>\n",
       "    <tr>\n",
       "      <th>7</th>\n",
       "      <td>6mfA93Y84bu6wbPgJYVGa7</td>\n",
       "      <td>Wine Am Go Low</td>\n",
       "      <td>Boybreed</td>\n",
       "      <td>0c6BBWTsX4cGRLanSDldSc</td>\n",
       "      <td>40</td>\n",
       "      <td>[afro r&amp;b]</td>\n",
       "      <td>0.769</td>\n",
       "      <td>0.673</td>\n",
       "      <td>1</td>\n",
       "      <td>-7.081</td>\n",
       "      <td>...</td>\n",
       "      <td>0.1020</td>\n",
       "      <td>0.5410</td>\n",
       "      <td>95.006</td>\n",
       "      <td>audio_features</td>\n",
       "      <td>6mfA93Y84bu6wbPgJYVGa7</td>\n",
       "      <td>spotify:track:6mfA93Y84bu6wbPgJYVGa7</td>\n",
       "      <td>https://api.spotify.com/v1/tracks/6mfA93Y84bu6...</td>\n",
       "      <td>https://api.spotify.com/v1/audio-analysis/6mfA...</td>\n",
       "      <td>171964</td>\n",
       "      <td>4</td>\n",
       "    </tr>\n",
       "    <tr>\n",
       "      <th>8</th>\n",
       "      <td>05M4QRmytVTEO58puxL6Tp</td>\n",
       "      <td>Rice &amp; Peas</td>\n",
       "      <td>Gabzy</td>\n",
       "      <td>2sEUjEtnqBphiYquoNfV62</td>\n",
       "      <td>40</td>\n",
       "      <td>[nigerian pop]</td>\n",
       "      <td>0.710</td>\n",
       "      <td>0.675</td>\n",
       "      <td>2</td>\n",
       "      <td>-6.207</td>\n",
       "      <td>...</td>\n",
       "      <td>0.0855</td>\n",
       "      <td>0.6340</td>\n",
       "      <td>200.221</td>\n",
       "      <td>audio_features</td>\n",
       "      <td>05M4QRmytVTEO58puxL6Tp</td>\n",
       "      <td>spotify:track:05M4QRmytVTEO58puxL6Tp</td>\n",
       "      <td>https://api.spotify.com/v1/tracks/05M4QRmytVTE...</td>\n",
       "      <td>https://api.spotify.com/v1/audio-analysis/05M4...</td>\n",
       "      <td>203390</td>\n",
       "      <td>4</td>\n",
       "    </tr>\n",
       "    <tr>\n",
       "      <th>9</th>\n",
       "      <td>09iUvmiC1flOeKXpKZXRa5</td>\n",
       "      <td>Your Body</td>\n",
       "      <td>Mayorkun</td>\n",
       "      <td>3DNCUaKdMZcMVJIS7yTskd</td>\n",
       "      <td>40</td>\n",
       "      <td>[afro dancehall, afropop, azontobeats, nigeria...</td>\n",
       "      <td>0.874</td>\n",
       "      <td>0.665</td>\n",
       "      <td>5</td>\n",
       "      <td>-6.441</td>\n",
       "      <td>...</td>\n",
       "      <td>0.2370</td>\n",
       "      <td>0.7810</td>\n",
       "      <td>123.060</td>\n",
       "      <td>audio_features</td>\n",
       "      <td>09iUvmiC1flOeKXpKZXRa5</td>\n",
       "      <td>spotify:track:09iUvmiC1flOeKXpKZXRa5</td>\n",
       "      <td>https://api.spotify.com/v1/tracks/09iUvmiC1flO...</td>\n",
       "      <td>https://api.spotify.com/v1/audio-analysis/09iU...</td>\n",
       "      <td>175610</td>\n",
       "      <td>4</td>\n",
       "    </tr>\n",
       "  </tbody>\n",
       "</table>\n",
       "<p>10 rows × 24 columns</p>\n",
       "</div>"
      ],
      "text/plain": [
       "                 track_id                                             name  \\\n",
       "0  2xoVDDYw363XRSSmyTLDTt                                           Rewind   \n",
       "1  7kxtdxIGYOlqkkJmtb2lTN  Roadside (+234 Remix) [feat. Rema & Ayra Starr]   \n",
       "2  53qfjPTEB6DQPFoFjLigI6                                         Bad Girl   \n",
       "3  3cvHkBpkdzLNttIkvKki5n                                        Dangerous   \n",
       "4  210hDS6A9pznApJFY8SkpH                                          Control   \n",
       "5  36AXjKaxwnDbBYaguLOiXA                                Practice Patience   \n",
       "6  6khF6tGGrGcsQIfA4LP7P0                                        Boulevard   \n",
       "7  6mfA93Y84bu6wbPgJYVGa7                                   Wine Am Go Low   \n",
       "8  05M4QRmytVTEO58puxL6Tp                                      Rice & Peas   \n",
       "9  09iUvmiC1flOeKXpKZXRa5                                        Your Body   \n",
       "\n",
       "        artist               artist_id  popularity  \\\n",
       "0         Rema  46pWGuE3dSwY3bMMXGBvVS          40   \n",
       "1      Mahalia  16rCzZOMQX7P8Kmn5YKexI          40   \n",
       "2      Idahams  6jPVueiSr0OHgVetuTuv5O          40   \n",
       "3  Blaq Jerzee  4on7a4BKixLl1rSlEcaY8Y          40   \n",
       "4       Gyakie  1zO1FWFxxNUCqUuGATxZQZ          40   \n",
       "5          YKB  2f8rjDwhSy9IDL6sB6BEEE          40   \n",
       "6         Rema  46pWGuE3dSwY3bMMXGBvVS          40   \n",
       "7     Boybreed  0c6BBWTsX4cGRLanSDldSc          40   \n",
       "8        Gabzy  2sEUjEtnqBphiYquoNfV62          40   \n",
       "9     Mayorkun  3DNCUaKdMZcMVJIS7yTskd          40   \n",
       "\n",
       "                                              genres  danceability  energy  \\\n",
       "0                                     [nigerian pop]         0.707   0.693   \n",
       "1  [alternative r&b, indie anthem-folk, uk contem...         0.597   0.755   \n",
       "2                                        [afroswing]         0.677   0.580   \n",
       "3                                     [nigerian pop]         0.694   0.697   \n",
       "4           [afro dancehall, afro r&b, nigerian pop]         0.821   0.666   \n",
       "5                   [nigerian hip hop, nigerian pop]         0.638   0.665   \n",
       "6                                     [nigerian pop]         0.634   0.659   \n",
       "7                                         [afro r&b]         0.769   0.673   \n",
       "8                                     [nigerian pop]         0.710   0.675   \n",
       "9  [afro dancehall, afropop, azontobeats, nigeria...         0.874   0.665   \n",
       "\n",
       "   key  loudness  ...  liveness  valence    tempo            type  \\\n",
       "0    4    -7.760  ...    0.1180   0.5650   95.967  audio_features   \n",
       "1    5    -5.046  ...    0.1170   0.6690  100.069  audio_features   \n",
       "2    4    -7.367  ...    0.1010   0.4800  126.643  audio_features   \n",
       "3   10    -5.419  ...    0.1120   0.8580   91.007  audio_features   \n",
       "4    5    -6.853  ...    0.1010   0.3650  103.039  audio_features   \n",
       "5    8    -6.669  ...    0.0781   0.7190  195.870  audio_features   \n",
       "6    7    -6.082  ...    0.1270   0.0931  120.006  audio_features   \n",
       "7    1    -7.081  ...    0.1020   0.5410   95.006  audio_features   \n",
       "8    2    -6.207  ...    0.0855   0.6340  200.221  audio_features   \n",
       "9    5    -6.441  ...    0.2370   0.7810  123.060  audio_features   \n",
       "\n",
       "                       id                                   uri  \\\n",
       "0  2xoVDDYw363XRSSmyTLDTt  spotify:track:2xoVDDYw363XRSSmyTLDTt   \n",
       "1  7kxtdxIGYOlqkkJmtb2lTN  spotify:track:7kxtdxIGYOlqkkJmtb2lTN   \n",
       "2  53qfjPTEB6DQPFoFjLigI6  spotify:track:53qfjPTEB6DQPFoFjLigI6   \n",
       "3  3cvHkBpkdzLNttIkvKki5n  spotify:track:3cvHkBpkdzLNttIkvKki5n   \n",
       "4  210hDS6A9pznApJFY8SkpH  spotify:track:210hDS6A9pznApJFY8SkpH   \n",
       "5  36AXjKaxwnDbBYaguLOiXA  spotify:track:36AXjKaxwnDbBYaguLOiXA   \n",
       "6  6khF6tGGrGcsQIfA4LP7P0  spotify:track:6khF6tGGrGcsQIfA4LP7P0   \n",
       "7  6mfA93Y84bu6wbPgJYVGa7  spotify:track:6mfA93Y84bu6wbPgJYVGa7   \n",
       "8  05M4QRmytVTEO58puxL6Tp  spotify:track:05M4QRmytVTEO58puxL6Tp   \n",
       "9  09iUvmiC1flOeKXpKZXRa5  spotify:track:09iUvmiC1flOeKXpKZXRa5   \n",
       "\n",
       "                                          track_href  \\\n",
       "0  https://api.spotify.com/v1/tracks/2xoVDDYw363X...   \n",
       "1  https://api.spotify.com/v1/tracks/7kxtdxIGYOlq...   \n",
       "2  https://api.spotify.com/v1/tracks/53qfjPTEB6DQ...   \n",
       "3  https://api.spotify.com/v1/tracks/3cvHkBpkdzLN...   \n",
       "4  https://api.spotify.com/v1/tracks/210hDS6A9pzn...   \n",
       "5  https://api.spotify.com/v1/tracks/36AXjKaxwnDb...   \n",
       "6  https://api.spotify.com/v1/tracks/6khF6tGGrGcs...   \n",
       "7  https://api.spotify.com/v1/tracks/6mfA93Y84bu6...   \n",
       "8  https://api.spotify.com/v1/tracks/05M4QRmytVTE...   \n",
       "9  https://api.spotify.com/v1/tracks/09iUvmiC1flO...   \n",
       "\n",
       "                                        analysis_url duration_ms  \\\n",
       "0  https://api.spotify.com/v1/audio-analysis/2xoV...      152301   \n",
       "1  https://api.spotify.com/v1/audio-analysis/7kxt...      198706   \n",
       "2  https://api.spotify.com/v1/audio-analysis/53qf...      194526   \n",
       "3  https://api.spotify.com/v1/audio-analysis/3cvH...      181978   \n",
       "4  https://api.spotify.com/v1/audio-analysis/210h...      154593   \n",
       "5  https://api.spotify.com/v1/audio-analysis/36AX...      216510   \n",
       "6  https://api.spotify.com/v1/audio-analysis/6khF...      112000   \n",
       "7  https://api.spotify.com/v1/audio-analysis/6mfA...      171964   \n",
       "8  https://api.spotify.com/v1/audio-analysis/05M4...      203390   \n",
       "9  https://api.spotify.com/v1/audio-analysis/09iU...      175610   \n",
       "\n",
       "  time_signature  \n",
       "0              4  \n",
       "1              4  \n",
       "2              5  \n",
       "3              4  \n",
       "4              4  \n",
       "5              4  \n",
       "6              4  \n",
       "7              4  \n",
       "8              4  \n",
       "9              4  \n",
       "\n",
       "[10 rows x 24 columns]"
      ]
     },
     "execution_count": 60,
     "metadata": {},
     "output_type": "execute_result"
    }
   ],
   "source": [
    "spo_recs = sw.get_spotify_recommendations(seed_artists=seed_artists, target_popularity=40, max_popularity=40)\n",
    "spo_recs.iloc[0:10]"
   ]
  },
  {
   "cell_type": "code",
   "execution_count": 61,
   "metadata": {},
   "outputs": [
    {
     "data": {
      "text/html": [
       "<div>\n",
       "<style scoped>\n",
       "    .dataframe tbody tr th:only-of-type {\n",
       "        vertical-align: middle;\n",
       "    }\n",
       "\n",
       "    .dataframe tbody tr th {\n",
       "        vertical-align: top;\n",
       "    }\n",
       "\n",
       "    .dataframe thead th {\n",
       "        text-align: right;\n",
       "    }\n",
       "</style>\n",
       "<table border=\"1\" class=\"dataframe\">\n",
       "  <thead>\n",
       "    <tr style=\"text-align: right;\">\n",
       "      <th></th>\n",
       "      <th>msd_id</th>\n",
       "      <th>artist_id</th>\n",
       "      <th>artist_name</th>\n",
       "      <th>artist_familiarity</th>\n",
       "      <th>artist_hotttnesss</th>\n",
       "      <th>song_id</th>\n",
       "      <th>song_title</th>\n",
       "      <th>song_hotttnesss</th>\n",
       "      <th>year</th>\n",
       "      <th>loudness</th>\n",
       "      <th>...</th>\n",
       "      <th>timbre_04</th>\n",
       "      <th>timbre_05</th>\n",
       "      <th>timbre_06</th>\n",
       "      <th>timbre_07</th>\n",
       "      <th>timbre_08</th>\n",
       "      <th>timbre_09</th>\n",
       "      <th>timbre_10</th>\n",
       "      <th>timbre_11</th>\n",
       "      <th>artist_count</th>\n",
       "      <th>popularity</th>\n",
       "    </tr>\n",
       "  </thead>\n",
       "  <tbody>\n",
       "    <tr>\n",
       "      <th>830619</th>\n",
       "      <td>TRVPAII128F42435A8</td>\n",
       "      <td>ARC8CQZ1187B98DECA</td>\n",
       "      <td>Jack Johnson</td>\n",
       "      <td>0.832012</td>\n",
       "      <td>0.694129</td>\n",
       "      <td>SOYHEPA12A8C13097F</td>\n",
       "      <td>Moonshine</td>\n",
       "      <td>0.664031</td>\n",
       "      <td>2003</td>\n",
       "      <td>-12.858</td>\n",
       "      <td>...</td>\n",
       "      <td>-29.375000</td>\n",
       "      <td>8.811301</td>\n",
       "      <td>7.839939</td>\n",
       "      <td>-21.288032</td>\n",
       "      <td>11.634125</td>\n",
       "      <td>-3.858227</td>\n",
       "      <td>-1.658684</td>\n",
       "      <td>21.484769</td>\n",
       "      <td>107</td>\n",
       "      <td>34.829098</td>\n",
       "    </tr>\n",
       "    <tr>\n",
       "      <th>978156</th>\n",
       "      <td>TRZLEAP128F1457184</td>\n",
       "      <td>ARXUG3L1187B9A8DBC</td>\n",
       "      <td>Earl Klugh</td>\n",
       "      <td>0.268269</td>\n",
       "      <td>0.426361</td>\n",
       "      <td>SODPJON12A3F1E99F7</td>\n",
       "      <td>Heart String</td>\n",
       "      <td>0.589439</td>\n",
       "      <td>1996</td>\n",
       "      <td>-15.263</td>\n",
       "      <td>...</td>\n",
       "      <td>-3.345047</td>\n",
       "      <td>-9.202632</td>\n",
       "      <td>9.690580</td>\n",
       "      <td>-15.727900</td>\n",
       "      <td>1.789034</td>\n",
       "      <td>-5.129349</td>\n",
       "      <td>5.786270</td>\n",
       "      <td>26.851069</td>\n",
       "      <td>121</td>\n",
       "      <td>34.961816</td>\n",
       "    </tr>\n",
       "    <tr>\n",
       "      <th>532069</th>\n",
       "      <td>TRNUVHF12903CF95EA</td>\n",
       "      <td>ARJ1K7W1187FB3C1EB</td>\n",
       "      <td>Canned Heat</td>\n",
       "      <td>0.675357</td>\n",
       "      <td>0.463890</td>\n",
       "      <td>SOAJUHH12AC3DF6D03</td>\n",
       "      <td>Future Blues</td>\n",
       "      <td>0.560092</td>\n",
       "      <td>1970</td>\n",
       "      <td>-14.506</td>\n",
       "      <td>...</td>\n",
       "      <td>-50.956177</td>\n",
       "      <td>-5.579569</td>\n",
       "      <td>-18.448852</td>\n",
       "      <td>-1.645836</td>\n",
       "      <td>31.293075</td>\n",
       "      <td>5.824271</td>\n",
       "      <td>9.744552</td>\n",
       "      <td>43.914195</td>\n",
       "      <td>127</td>\n",
       "      <td>34.868448</td>\n",
       "    </tr>\n",
       "    <tr>\n",
       "      <th>738411</th>\n",
       "      <td>TRTEGTA128F4274F8D</td>\n",
       "      <td>AR6CLFP1187B9ACB94</td>\n",
       "      <td>Daniel Johnston</td>\n",
       "      <td>0.713322</td>\n",
       "      <td>0.473613</td>\n",
       "      <td>SORFNJB12A8C13606B</td>\n",
       "      <td>Foxy Girl</td>\n",
       "      <td>0.460485</td>\n",
       "      <td>1994</td>\n",
       "      <td>-11.892</td>\n",
       "      <td>...</td>\n",
       "      <td>-14.381703</td>\n",
       "      <td>9.830223</td>\n",
       "      <td>-8.090528</td>\n",
       "      <td>-11.663355</td>\n",
       "      <td>-13.805583</td>\n",
       "      <td>-6.395394</td>\n",
       "      <td>-1.070724</td>\n",
       "      <td>34.877833</td>\n",
       "      <td>155</td>\n",
       "      <td>34.987819</td>\n",
       "    </tr>\n",
       "    <tr>\n",
       "      <th>991847</th>\n",
       "      <td>TRZULWO128F92FF0D7</td>\n",
       "      <td>ARLIQ281187FB3DC05</td>\n",
       "      <td>Squarepusher</td>\n",
       "      <td>0.719935</td>\n",
       "      <td>0.486950</td>\n",
       "      <td>SOOVDQS12AB017B90C</td>\n",
       "      <td>Bubble Life</td>\n",
       "      <td>0.596841</td>\n",
       "      <td>2006</td>\n",
       "      <td>-14.622</td>\n",
       "      <td>...</td>\n",
       "      <td>12.214864</td>\n",
       "      <td>-16.579488</td>\n",
       "      <td>-10.835592</td>\n",
       "      <td>-0.208774</td>\n",
       "      <td>2.481986</td>\n",
       "      <td>3.405550</td>\n",
       "      <td>4.731971</td>\n",
       "      <td>3.018448</td>\n",
       "      <td>119</td>\n",
       "      <td>34.815708</td>\n",
       "    </tr>\n",
       "    <tr>\n",
       "      <th>118406</th>\n",
       "      <td>TRDBPPP128F427F359</td>\n",
       "      <td>ARDJZ181187B9B7FBF</td>\n",
       "      <td>Sly &amp; The Family Stone</td>\n",
       "      <td>0.650201</td>\n",
       "      <td>0.473891</td>\n",
       "      <td>SOSWCIU12A8C135C6C</td>\n",
       "      <td>Poet</td>\n",
       "      <td>0.610231</td>\n",
       "      <td>1971</td>\n",
       "      <td>-15.256</td>\n",
       "      <td>...</td>\n",
       "      <td>24.158947</td>\n",
       "      <td>11.781596</td>\n",
       "      <td>2.705462</td>\n",
       "      <td>0.192136</td>\n",
       "      <td>7.891438</td>\n",
       "      <td>3.165298</td>\n",
       "      <td>-5.640097</td>\n",
       "      <td>4.301526</td>\n",
       "      <td>117</td>\n",
       "      <td>34.998564</td>\n",
       "    </tr>\n",
       "    <tr>\n",
       "      <th>389810</th>\n",
       "      <td>TRKCYKI128F429C5ED</td>\n",
       "      <td>ARZQ7QA1187B9AD08B</td>\n",
       "      <td>Prince</td>\n",
       "      <td>0.831929</td>\n",
       "      <td>0.594628</td>\n",
       "      <td>SOIARDM12A8C13C146</td>\n",
       "      <td>Gotta Broken Heart Again (LP Version)</td>\n",
       "      <td>0.583401</td>\n",
       "      <td>1980</td>\n",
       "      <td>-14.898</td>\n",
       "      <td>...</td>\n",
       "      <td>-31.779020</td>\n",
       "      <td>7.988520</td>\n",
       "      <td>-4.080869</td>\n",
       "      <td>-1.629441</td>\n",
       "      <td>0.928260</td>\n",
       "      <td>-4.542769</td>\n",
       "      <td>-0.922638</td>\n",
       "      <td>10.432253</td>\n",
       "      <td>122</td>\n",
       "      <td>34.889681</td>\n",
       "    </tr>\n",
       "    <tr>\n",
       "      <th>97408</th>\n",
       "      <td>TRCNMTX128F14A538A</td>\n",
       "      <td>ARGMYYN122BCFCB297</td>\n",
       "      <td>Frankie Valli &amp; The Four Seasons</td>\n",
       "      <td>0.663729</td>\n",
       "      <td>0.455733</td>\n",
       "      <td>SOWNYUF12A6D4FB262</td>\n",
       "      <td>Who Loves You (LP Version)</td>\n",
       "      <td>0.666245</td>\n",
       "      <td>0</td>\n",
       "      <td>-12.265</td>\n",
       "      <td>...</td>\n",
       "      <td>12.430666</td>\n",
       "      <td>-6.255285</td>\n",
       "      <td>-15.988174</td>\n",
       "      <td>-0.974652</td>\n",
       "      <td>-2.616146</td>\n",
       "      <td>-0.278056</td>\n",
       "      <td>4.003271</td>\n",
       "      <td>10.020572</td>\n",
       "      <td>107</td>\n",
       "      <td>34.945198</td>\n",
       "    </tr>\n",
       "    <tr>\n",
       "      <th>453744</th>\n",
       "      <td>TRLUBHL128F9308A2A</td>\n",
       "      <td>AR914BW1187FB45A1B</td>\n",
       "      <td>Morrissey</td>\n",
       "      <td>0.772229</td>\n",
       "      <td>0.557767</td>\n",
       "      <td>SOBFCBT12AB017EB9D</td>\n",
       "      <td>I Know It's Gonna Happen Someday</td>\n",
       "      <td>0.619268</td>\n",
       "      <td>1992</td>\n",
       "      <td>-14.908</td>\n",
       "      <td>...</td>\n",
       "      <td>-43.782291</td>\n",
       "      <td>-16.426606</td>\n",
       "      <td>-8.462351</td>\n",
       "      <td>-2.552712</td>\n",
       "      <td>-8.381856</td>\n",
       "      <td>-2.052965</td>\n",
       "      <td>0.935738</td>\n",
       "      <td>-2.758093</td>\n",
       "      <td>115</td>\n",
       "      <td>34.909699</td>\n",
       "    </tr>\n",
       "    <tr>\n",
       "      <th>395237</th>\n",
       "      <td>TRKGQHE128F4243201</td>\n",
       "      <td>AR6LKUT1187FB57287</td>\n",
       "      <td>Bee Gees</td>\n",
       "      <td>0.720113</td>\n",
       "      <td>0.576076</td>\n",
       "      <td>SOTSFLZ12A81C22D27</td>\n",
       "      <td>Children Of The World (Album Version)</td>\n",
       "      <td>0.505487</td>\n",
       "      <td>1976</td>\n",
       "      <td>-10.562</td>\n",
       "      <td>...</td>\n",
       "      <td>45.350685</td>\n",
       "      <td>9.648021</td>\n",
       "      <td>-9.065085</td>\n",
       "      <td>-10.659778</td>\n",
       "      <td>-2.966923</td>\n",
       "      <td>-6.617475</td>\n",
       "      <td>-4.302970</td>\n",
       "      <td>3.682345</td>\n",
       "      <td>141</td>\n",
       "      <td>34.938096</td>\n",
       "    </tr>\n",
       "  </tbody>\n",
       "</table>\n",
       "<p>10 rows × 30 columns</p>\n",
       "</div>"
      ],
      "text/plain": [
       "                    msd_id           artist_id  \\\n",
       "830619  TRVPAII128F42435A8  ARC8CQZ1187B98DECA   \n",
       "978156  TRZLEAP128F1457184  ARXUG3L1187B9A8DBC   \n",
       "532069  TRNUVHF12903CF95EA  ARJ1K7W1187FB3C1EB   \n",
       "738411  TRTEGTA128F4274F8D  AR6CLFP1187B9ACB94   \n",
       "991847  TRZULWO128F92FF0D7  ARLIQ281187FB3DC05   \n",
       "118406  TRDBPPP128F427F359  ARDJZ181187B9B7FBF   \n",
       "389810  TRKCYKI128F429C5ED  ARZQ7QA1187B9AD08B   \n",
       "97408   TRCNMTX128F14A538A  ARGMYYN122BCFCB297   \n",
       "453744  TRLUBHL128F9308A2A  AR914BW1187FB45A1B   \n",
       "395237  TRKGQHE128F4243201  AR6LKUT1187FB57287   \n",
       "\n",
       "                             artist_name  artist_familiarity  \\\n",
       "830619                      Jack Johnson            0.832012   \n",
       "978156                        Earl Klugh            0.268269   \n",
       "532069                       Canned Heat            0.675357   \n",
       "738411                   Daniel Johnston            0.713322   \n",
       "991847                      Squarepusher            0.719935   \n",
       "118406            Sly & The Family Stone            0.650201   \n",
       "389810                            Prince            0.831929   \n",
       "97408   Frankie Valli & The Four Seasons            0.663729   \n",
       "453744                         Morrissey            0.772229   \n",
       "395237                          Bee Gees            0.720113   \n",
       "\n",
       "        artist_hotttnesss             song_id  \\\n",
       "830619           0.694129  SOYHEPA12A8C13097F   \n",
       "978156           0.426361  SODPJON12A3F1E99F7   \n",
       "532069           0.463890  SOAJUHH12AC3DF6D03   \n",
       "738411           0.473613  SORFNJB12A8C13606B   \n",
       "991847           0.486950  SOOVDQS12AB017B90C   \n",
       "118406           0.473891  SOSWCIU12A8C135C6C   \n",
       "389810           0.594628  SOIARDM12A8C13C146   \n",
       "97408            0.455733  SOWNYUF12A6D4FB262   \n",
       "453744           0.557767  SOBFCBT12AB017EB9D   \n",
       "395237           0.576076  SOTSFLZ12A81C22D27   \n",
       "\n",
       "                                   song_title  song_hotttnesss  year  \\\n",
       "830619                              Moonshine         0.664031  2003   \n",
       "978156                           Heart String         0.589439  1996   \n",
       "532069                           Future Blues         0.560092  1970   \n",
       "738411                              Foxy Girl         0.460485  1994   \n",
       "991847                            Bubble Life         0.596841  2006   \n",
       "118406                                   Poet         0.610231  1971   \n",
       "389810  Gotta Broken Heart Again (LP Version)         0.583401  1980   \n",
       "97408              Who Loves You (LP Version)         0.666245     0   \n",
       "453744       I Know It's Gonna Happen Someday         0.619268  1992   \n",
       "395237  Children Of The World (Album Version)         0.505487  1976   \n",
       "\n",
       "        loudness  ...  timbre_04  timbre_05  timbre_06  timbre_07  timbre_08  \\\n",
       "830619   -12.858  ... -29.375000   8.811301   7.839939 -21.288032  11.634125   \n",
       "978156   -15.263  ...  -3.345047  -9.202632   9.690580 -15.727900   1.789034   \n",
       "532069   -14.506  ... -50.956177  -5.579569 -18.448852  -1.645836  31.293075   \n",
       "738411   -11.892  ... -14.381703   9.830223  -8.090528 -11.663355 -13.805583   \n",
       "991847   -14.622  ...  12.214864 -16.579488 -10.835592  -0.208774   2.481986   \n",
       "118406   -15.256  ...  24.158947  11.781596   2.705462   0.192136   7.891438   \n",
       "389810   -14.898  ... -31.779020   7.988520  -4.080869  -1.629441   0.928260   \n",
       "97408    -12.265  ...  12.430666  -6.255285 -15.988174  -0.974652  -2.616146   \n",
       "453744   -14.908  ... -43.782291 -16.426606  -8.462351  -2.552712  -8.381856   \n",
       "395237   -10.562  ...  45.350685   9.648021  -9.065085 -10.659778  -2.966923   \n",
       "\n",
       "        timbre_09  timbre_10  timbre_11  artist_count  popularity  \n",
       "830619  -3.858227  -1.658684  21.484769           107   34.829098  \n",
       "978156  -5.129349   5.786270  26.851069           121   34.961816  \n",
       "532069   5.824271   9.744552  43.914195           127   34.868448  \n",
       "738411  -6.395394  -1.070724  34.877833           155   34.987819  \n",
       "991847   3.405550   4.731971   3.018448           119   34.815708  \n",
       "118406   3.165298  -5.640097   4.301526           117   34.998564  \n",
       "389810  -4.542769  -0.922638  10.432253           122   34.889681  \n",
       "97408   -0.278056   4.003271  10.020572           107   34.945198  \n",
       "453744  -2.052965   0.935738  -2.758093           115   34.909699  \n",
       "395237  -6.617475  -4.302970   3.682345           141   34.938096  \n",
       "\n",
       "[10 rows x 30 columns]"
      ]
     },
     "metadata": {},
     "output_type": "display_data"
    },
    {
     "data": {
      "text/html": [
       "<div>\n",
       "<style scoped>\n",
       "    .dataframe tbody tr th:only-of-type {\n",
       "        vertical-align: middle;\n",
       "    }\n",
       "\n",
       "    .dataframe tbody tr th {\n",
       "        vertical-align: top;\n",
       "    }\n",
       "\n",
       "    .dataframe thead th {\n",
       "        text-align: right;\n",
       "    }\n",
       "</style>\n",
       "<table border=\"1\" class=\"dataframe\">\n",
       "  <thead>\n",
       "    <tr style=\"text-align: right;\">\n",
       "      <th></th>\n",
       "      <th>track_id</th>\n",
       "      <th>name</th>\n",
       "      <th>artist</th>\n",
       "      <th>artist_id</th>\n",
       "      <th>popularity</th>\n",
       "      <th>genres</th>\n",
       "      <th>danceability</th>\n",
       "      <th>energy</th>\n",
       "      <th>key</th>\n",
       "      <th>loudness</th>\n",
       "      <th>...</th>\n",
       "      <th>liveness</th>\n",
       "      <th>valence</th>\n",
       "      <th>tempo</th>\n",
       "      <th>type</th>\n",
       "      <th>id</th>\n",
       "      <th>uri</th>\n",
       "      <th>track_href</th>\n",
       "      <th>analysis_url</th>\n",
       "      <th>duration_ms</th>\n",
       "      <th>time_signature</th>\n",
       "    </tr>\n",
       "  </thead>\n",
       "  <tbody>\n",
       "    <tr>\n",
       "      <th>0</th>\n",
       "      <td>2xoVDDYw363XRSSmyTLDTt</td>\n",
       "      <td>Rewind</td>\n",
       "      <td>Rema</td>\n",
       "      <td>46pWGuE3dSwY3bMMXGBvVS</td>\n",
       "      <td>40</td>\n",
       "      <td>[nigerian pop]</td>\n",
       "      <td>0.707</td>\n",
       "      <td>0.693</td>\n",
       "      <td>4</td>\n",
       "      <td>-7.760</td>\n",
       "      <td>...</td>\n",
       "      <td>0.1180</td>\n",
       "      <td>0.5650</td>\n",
       "      <td>95.967</td>\n",
       "      <td>audio_features</td>\n",
       "      <td>2xoVDDYw363XRSSmyTLDTt</td>\n",
       "      <td>spotify:track:2xoVDDYw363XRSSmyTLDTt</td>\n",
       "      <td>https://api.spotify.com/v1/tracks/2xoVDDYw363X...</td>\n",
       "      <td>https://api.spotify.com/v1/audio-analysis/2xoV...</td>\n",
       "      <td>152301</td>\n",
       "      <td>4</td>\n",
       "    </tr>\n",
       "    <tr>\n",
       "      <th>1</th>\n",
       "      <td>7kxtdxIGYOlqkkJmtb2lTN</td>\n",
       "      <td>Roadside (+234 Remix) [feat. Rema &amp; Ayra Starr]</td>\n",
       "      <td>Mahalia</td>\n",
       "      <td>16rCzZOMQX7P8Kmn5YKexI</td>\n",
       "      <td>40</td>\n",
       "      <td>[alternative r&amp;b, indie anthem-folk, uk contem...</td>\n",
       "      <td>0.597</td>\n",
       "      <td>0.755</td>\n",
       "      <td>5</td>\n",
       "      <td>-5.046</td>\n",
       "      <td>...</td>\n",
       "      <td>0.1170</td>\n",
       "      <td>0.6690</td>\n",
       "      <td>100.069</td>\n",
       "      <td>audio_features</td>\n",
       "      <td>7kxtdxIGYOlqkkJmtb2lTN</td>\n",
       "      <td>spotify:track:7kxtdxIGYOlqkkJmtb2lTN</td>\n",
       "      <td>https://api.spotify.com/v1/tracks/7kxtdxIGYOlq...</td>\n",
       "      <td>https://api.spotify.com/v1/audio-analysis/7kxt...</td>\n",
       "      <td>198706</td>\n",
       "      <td>4</td>\n",
       "    </tr>\n",
       "    <tr>\n",
       "      <th>2</th>\n",
       "      <td>53qfjPTEB6DQPFoFjLigI6</td>\n",
       "      <td>Bad Girl</td>\n",
       "      <td>Idahams</td>\n",
       "      <td>6jPVueiSr0OHgVetuTuv5O</td>\n",
       "      <td>40</td>\n",
       "      <td>[afroswing]</td>\n",
       "      <td>0.677</td>\n",
       "      <td>0.580</td>\n",
       "      <td>4</td>\n",
       "      <td>-7.367</td>\n",
       "      <td>...</td>\n",
       "      <td>0.1010</td>\n",
       "      <td>0.4800</td>\n",
       "      <td>126.643</td>\n",
       "      <td>audio_features</td>\n",
       "      <td>53qfjPTEB6DQPFoFjLigI6</td>\n",
       "      <td>spotify:track:53qfjPTEB6DQPFoFjLigI6</td>\n",
       "      <td>https://api.spotify.com/v1/tracks/53qfjPTEB6DQ...</td>\n",
       "      <td>https://api.spotify.com/v1/audio-analysis/53qf...</td>\n",
       "      <td>194526</td>\n",
       "      <td>5</td>\n",
       "    </tr>\n",
       "    <tr>\n",
       "      <th>3</th>\n",
       "      <td>3cvHkBpkdzLNttIkvKki5n</td>\n",
       "      <td>Dangerous</td>\n",
       "      <td>Blaq Jerzee</td>\n",
       "      <td>4on7a4BKixLl1rSlEcaY8Y</td>\n",
       "      <td>40</td>\n",
       "      <td>[nigerian pop]</td>\n",
       "      <td>0.694</td>\n",
       "      <td>0.697</td>\n",
       "      <td>10</td>\n",
       "      <td>-5.419</td>\n",
       "      <td>...</td>\n",
       "      <td>0.1120</td>\n",
       "      <td>0.8580</td>\n",
       "      <td>91.007</td>\n",
       "      <td>audio_features</td>\n",
       "      <td>3cvHkBpkdzLNttIkvKki5n</td>\n",
       "      <td>spotify:track:3cvHkBpkdzLNttIkvKki5n</td>\n",
       "      <td>https://api.spotify.com/v1/tracks/3cvHkBpkdzLN...</td>\n",
       "      <td>https://api.spotify.com/v1/audio-analysis/3cvH...</td>\n",
       "      <td>181978</td>\n",
       "      <td>4</td>\n",
       "    </tr>\n",
       "    <tr>\n",
       "      <th>4</th>\n",
       "      <td>210hDS6A9pznApJFY8SkpH</td>\n",
       "      <td>Control</td>\n",
       "      <td>Gyakie</td>\n",
       "      <td>1zO1FWFxxNUCqUuGATxZQZ</td>\n",
       "      <td>40</td>\n",
       "      <td>[afro dancehall, afro r&amp;b, nigerian pop]</td>\n",
       "      <td>0.821</td>\n",
       "      <td>0.666</td>\n",
       "      <td>5</td>\n",
       "      <td>-6.853</td>\n",
       "      <td>...</td>\n",
       "      <td>0.1010</td>\n",
       "      <td>0.3650</td>\n",
       "      <td>103.039</td>\n",
       "      <td>audio_features</td>\n",
       "      <td>210hDS6A9pznApJFY8SkpH</td>\n",
       "      <td>spotify:track:210hDS6A9pznApJFY8SkpH</td>\n",
       "      <td>https://api.spotify.com/v1/tracks/210hDS6A9pzn...</td>\n",
       "      <td>https://api.spotify.com/v1/audio-analysis/210h...</td>\n",
       "      <td>154593</td>\n",
       "      <td>4</td>\n",
       "    </tr>\n",
       "    <tr>\n",
       "      <th>5</th>\n",
       "      <td>36AXjKaxwnDbBYaguLOiXA</td>\n",
       "      <td>Practice Patience</td>\n",
       "      <td>YKB</td>\n",
       "      <td>2f8rjDwhSy9IDL6sB6BEEE</td>\n",
       "      <td>40</td>\n",
       "      <td>[nigerian hip hop, nigerian pop]</td>\n",
       "      <td>0.638</td>\n",
       "      <td>0.665</td>\n",
       "      <td>8</td>\n",
       "      <td>-6.669</td>\n",
       "      <td>...</td>\n",
       "      <td>0.0781</td>\n",
       "      <td>0.7190</td>\n",
       "      <td>195.870</td>\n",
       "      <td>audio_features</td>\n",
       "      <td>36AXjKaxwnDbBYaguLOiXA</td>\n",
       "      <td>spotify:track:36AXjKaxwnDbBYaguLOiXA</td>\n",
       "      <td>https://api.spotify.com/v1/tracks/36AXjKaxwnDb...</td>\n",
       "      <td>https://api.spotify.com/v1/audio-analysis/36AX...</td>\n",
       "      <td>216510</td>\n",
       "      <td>4</td>\n",
       "    </tr>\n",
       "    <tr>\n",
       "      <th>6</th>\n",
       "      <td>6khF6tGGrGcsQIfA4LP7P0</td>\n",
       "      <td>Boulevard</td>\n",
       "      <td>Rema</td>\n",
       "      <td>46pWGuE3dSwY3bMMXGBvVS</td>\n",
       "      <td>40</td>\n",
       "      <td>[nigerian pop]</td>\n",
       "      <td>0.634</td>\n",
       "      <td>0.659</td>\n",
       "      <td>7</td>\n",
       "      <td>-6.082</td>\n",
       "      <td>...</td>\n",
       "      <td>0.1270</td>\n",
       "      <td>0.0931</td>\n",
       "      <td>120.006</td>\n",
       "      <td>audio_features</td>\n",
       "      <td>6khF6tGGrGcsQIfA4LP7P0</td>\n",
       "      <td>spotify:track:6khF6tGGrGcsQIfA4LP7P0</td>\n",
       "      <td>https://api.spotify.com/v1/tracks/6khF6tGGrGcs...</td>\n",
       "      <td>https://api.spotify.com/v1/audio-analysis/6khF...</td>\n",
       "      <td>112000</td>\n",
       "      <td>4</td>\n",
       "    </tr>\n",
       "    <tr>\n",
       "      <th>7</th>\n",
       "      <td>6mfA93Y84bu6wbPgJYVGa7</td>\n",
       "      <td>Wine Am Go Low</td>\n",
       "      <td>Boybreed</td>\n",
       "      <td>0c6BBWTsX4cGRLanSDldSc</td>\n",
       "      <td>40</td>\n",
       "      <td>[afro r&amp;b]</td>\n",
       "      <td>0.769</td>\n",
       "      <td>0.673</td>\n",
       "      <td>1</td>\n",
       "      <td>-7.081</td>\n",
       "      <td>...</td>\n",
       "      <td>0.1020</td>\n",
       "      <td>0.5410</td>\n",
       "      <td>95.006</td>\n",
       "      <td>audio_features</td>\n",
       "      <td>6mfA93Y84bu6wbPgJYVGa7</td>\n",
       "      <td>spotify:track:6mfA93Y84bu6wbPgJYVGa7</td>\n",
       "      <td>https://api.spotify.com/v1/tracks/6mfA93Y84bu6...</td>\n",
       "      <td>https://api.spotify.com/v1/audio-analysis/6mfA...</td>\n",
       "      <td>171964</td>\n",
       "      <td>4</td>\n",
       "    </tr>\n",
       "    <tr>\n",
       "      <th>8</th>\n",
       "      <td>05M4QRmytVTEO58puxL6Tp</td>\n",
       "      <td>Rice &amp; Peas</td>\n",
       "      <td>Gabzy</td>\n",
       "      <td>2sEUjEtnqBphiYquoNfV62</td>\n",
       "      <td>40</td>\n",
       "      <td>[nigerian pop]</td>\n",
       "      <td>0.710</td>\n",
       "      <td>0.675</td>\n",
       "      <td>2</td>\n",
       "      <td>-6.207</td>\n",
       "      <td>...</td>\n",
       "      <td>0.0855</td>\n",
       "      <td>0.6340</td>\n",
       "      <td>200.221</td>\n",
       "      <td>audio_features</td>\n",
       "      <td>05M4QRmytVTEO58puxL6Tp</td>\n",
       "      <td>spotify:track:05M4QRmytVTEO58puxL6Tp</td>\n",
       "      <td>https://api.spotify.com/v1/tracks/05M4QRmytVTE...</td>\n",
       "      <td>https://api.spotify.com/v1/audio-analysis/05M4...</td>\n",
       "      <td>203390</td>\n",
       "      <td>4</td>\n",
       "    </tr>\n",
       "    <tr>\n",
       "      <th>9</th>\n",
       "      <td>09iUvmiC1flOeKXpKZXRa5</td>\n",
       "      <td>Your Body</td>\n",
       "      <td>Mayorkun</td>\n",
       "      <td>3DNCUaKdMZcMVJIS7yTskd</td>\n",
       "      <td>40</td>\n",
       "      <td>[afro dancehall, afropop, azontobeats, nigeria...</td>\n",
       "      <td>0.874</td>\n",
       "      <td>0.665</td>\n",
       "      <td>5</td>\n",
       "      <td>-6.441</td>\n",
       "      <td>...</td>\n",
       "      <td>0.2370</td>\n",
       "      <td>0.7810</td>\n",
       "      <td>123.060</td>\n",
       "      <td>audio_features</td>\n",
       "      <td>09iUvmiC1flOeKXpKZXRa5</td>\n",
       "      <td>spotify:track:09iUvmiC1flOeKXpKZXRa5</td>\n",
       "      <td>https://api.spotify.com/v1/tracks/09iUvmiC1flO...</td>\n",
       "      <td>https://api.spotify.com/v1/audio-analysis/09iU...</td>\n",
       "      <td>175610</td>\n",
       "      <td>4</td>\n",
       "    </tr>\n",
       "  </tbody>\n",
       "</table>\n",
       "<p>10 rows × 24 columns</p>\n",
       "</div>"
      ],
      "text/plain": [
       "                 track_id                                             name  \\\n",
       "0  2xoVDDYw363XRSSmyTLDTt                                           Rewind   \n",
       "1  7kxtdxIGYOlqkkJmtb2lTN  Roadside (+234 Remix) [feat. Rema & Ayra Starr]   \n",
       "2  53qfjPTEB6DQPFoFjLigI6                                         Bad Girl   \n",
       "3  3cvHkBpkdzLNttIkvKki5n                                        Dangerous   \n",
       "4  210hDS6A9pznApJFY8SkpH                                          Control   \n",
       "5  36AXjKaxwnDbBYaguLOiXA                                Practice Patience   \n",
       "6  6khF6tGGrGcsQIfA4LP7P0                                        Boulevard   \n",
       "7  6mfA93Y84bu6wbPgJYVGa7                                   Wine Am Go Low   \n",
       "8  05M4QRmytVTEO58puxL6Tp                                      Rice & Peas   \n",
       "9  09iUvmiC1flOeKXpKZXRa5                                        Your Body   \n",
       "\n",
       "        artist               artist_id  popularity  \\\n",
       "0         Rema  46pWGuE3dSwY3bMMXGBvVS          40   \n",
       "1      Mahalia  16rCzZOMQX7P8Kmn5YKexI          40   \n",
       "2      Idahams  6jPVueiSr0OHgVetuTuv5O          40   \n",
       "3  Blaq Jerzee  4on7a4BKixLl1rSlEcaY8Y          40   \n",
       "4       Gyakie  1zO1FWFxxNUCqUuGATxZQZ          40   \n",
       "5          YKB  2f8rjDwhSy9IDL6sB6BEEE          40   \n",
       "6         Rema  46pWGuE3dSwY3bMMXGBvVS          40   \n",
       "7     Boybreed  0c6BBWTsX4cGRLanSDldSc          40   \n",
       "8        Gabzy  2sEUjEtnqBphiYquoNfV62          40   \n",
       "9     Mayorkun  3DNCUaKdMZcMVJIS7yTskd          40   \n",
       "\n",
       "                                              genres  danceability  energy  \\\n",
       "0                                     [nigerian pop]         0.707   0.693   \n",
       "1  [alternative r&b, indie anthem-folk, uk contem...         0.597   0.755   \n",
       "2                                        [afroswing]         0.677   0.580   \n",
       "3                                     [nigerian pop]         0.694   0.697   \n",
       "4           [afro dancehall, afro r&b, nigerian pop]         0.821   0.666   \n",
       "5                   [nigerian hip hop, nigerian pop]         0.638   0.665   \n",
       "6                                     [nigerian pop]         0.634   0.659   \n",
       "7                                         [afro r&b]         0.769   0.673   \n",
       "8                                     [nigerian pop]         0.710   0.675   \n",
       "9  [afro dancehall, afropop, azontobeats, nigeria...         0.874   0.665   \n",
       "\n",
       "   key  loudness  ...  liveness  valence    tempo            type  \\\n",
       "0    4    -7.760  ...    0.1180   0.5650   95.967  audio_features   \n",
       "1    5    -5.046  ...    0.1170   0.6690  100.069  audio_features   \n",
       "2    4    -7.367  ...    0.1010   0.4800  126.643  audio_features   \n",
       "3   10    -5.419  ...    0.1120   0.8580   91.007  audio_features   \n",
       "4    5    -6.853  ...    0.1010   0.3650  103.039  audio_features   \n",
       "5    8    -6.669  ...    0.0781   0.7190  195.870  audio_features   \n",
       "6    7    -6.082  ...    0.1270   0.0931  120.006  audio_features   \n",
       "7    1    -7.081  ...    0.1020   0.5410   95.006  audio_features   \n",
       "8    2    -6.207  ...    0.0855   0.6340  200.221  audio_features   \n",
       "9    5    -6.441  ...    0.2370   0.7810  123.060  audio_features   \n",
       "\n",
       "                       id                                   uri  \\\n",
       "0  2xoVDDYw363XRSSmyTLDTt  spotify:track:2xoVDDYw363XRSSmyTLDTt   \n",
       "1  7kxtdxIGYOlqkkJmtb2lTN  spotify:track:7kxtdxIGYOlqkkJmtb2lTN   \n",
       "2  53qfjPTEB6DQPFoFjLigI6  spotify:track:53qfjPTEB6DQPFoFjLigI6   \n",
       "3  3cvHkBpkdzLNttIkvKki5n  spotify:track:3cvHkBpkdzLNttIkvKki5n   \n",
       "4  210hDS6A9pznApJFY8SkpH  spotify:track:210hDS6A9pznApJFY8SkpH   \n",
       "5  36AXjKaxwnDbBYaguLOiXA  spotify:track:36AXjKaxwnDbBYaguLOiXA   \n",
       "6  6khF6tGGrGcsQIfA4LP7P0  spotify:track:6khF6tGGrGcsQIfA4LP7P0   \n",
       "7  6mfA93Y84bu6wbPgJYVGa7  spotify:track:6mfA93Y84bu6wbPgJYVGa7   \n",
       "8  05M4QRmytVTEO58puxL6Tp  spotify:track:05M4QRmytVTEO58puxL6Tp   \n",
       "9  09iUvmiC1flOeKXpKZXRa5  spotify:track:09iUvmiC1flOeKXpKZXRa5   \n",
       "\n",
       "                                          track_href  \\\n",
       "0  https://api.spotify.com/v1/tracks/2xoVDDYw363X...   \n",
       "1  https://api.spotify.com/v1/tracks/7kxtdxIGYOlq...   \n",
       "2  https://api.spotify.com/v1/tracks/53qfjPTEB6DQ...   \n",
       "3  https://api.spotify.com/v1/tracks/3cvHkBpkdzLN...   \n",
       "4  https://api.spotify.com/v1/tracks/210hDS6A9pzn...   \n",
       "5  https://api.spotify.com/v1/tracks/36AXjKaxwnDb...   \n",
       "6  https://api.spotify.com/v1/tracks/6khF6tGGrGcs...   \n",
       "7  https://api.spotify.com/v1/tracks/6mfA93Y84bu6...   \n",
       "8  https://api.spotify.com/v1/tracks/05M4QRmytVTE...   \n",
       "9  https://api.spotify.com/v1/tracks/09iUvmiC1flO...   \n",
       "\n",
       "                                        analysis_url duration_ms  \\\n",
       "0  https://api.spotify.com/v1/audio-analysis/2xoV...      152301   \n",
       "1  https://api.spotify.com/v1/audio-analysis/7kxt...      198706   \n",
       "2  https://api.spotify.com/v1/audio-analysis/53qf...      194526   \n",
       "3  https://api.spotify.com/v1/audio-analysis/3cvH...      181978   \n",
       "4  https://api.spotify.com/v1/audio-analysis/210h...      154593   \n",
       "5  https://api.spotify.com/v1/audio-analysis/36AX...      216510   \n",
       "6  https://api.spotify.com/v1/audio-analysis/6khF...      112000   \n",
       "7  https://api.spotify.com/v1/audio-analysis/6mfA...      171964   \n",
       "8  https://api.spotify.com/v1/audio-analysis/05M4...      203390   \n",
       "9  https://api.spotify.com/v1/audio-analysis/09iU...      175610   \n",
       "\n",
       "  time_signature  \n",
       "0              4  \n",
       "1              4  \n",
       "2              5  \n",
       "3              4  \n",
       "4              4  \n",
       "5              4  \n",
       "6              4  \n",
       "7              4  \n",
       "8              4  \n",
       "9              4  \n",
       "\n",
       "[10 rows x 24 columns]"
      ]
     },
     "metadata": {},
     "output_type": "display_data"
    }
   ],
   "source": [
    "final_MSD_recs = recs[0]\n",
    "final_spo_recs = spo_recs.iloc[0:10]\n",
    "display(final_MSD_recs)\n",
    "display(final_spo_recs)"
   ]
  },
  {
   "attachments": {},
   "cell_type": "markdown",
   "metadata": {},
   "source": [
    "### Comparing recommendations from MSD and Spotify"
   ]
  },
  {
   "cell_type": "code",
   "execution_count": 67,
   "metadata": {},
   "outputs": [],
   "source": [
    "import plotly.graph_objects as go\n",
    "from plotly.subplots import make_subplots"
   ]
  },
  {
   "cell_type": "code",
   "execution_count": 86,
   "metadata": {},
   "outputs": [],
   "source": [
    "def histograms(feature):\n",
    "    # Create histogram for MSD dataframe\n",
    "    trace1 = go.Histogram(\n",
    "        x=final_MSD_recs[feature],\n",
    "        nbinsx=25,  # specify number of bins\n",
    "        name='MSD ' + feature,  # specify name for legend\n",
    "        marker=dict(color='rgb(251, 128, 114)'),  # specify color for histogram bars\n",
    "        opacity=0.7  # specify opacity of histogram bars\n",
    "    )\n",
    "\n",
    "    # Create histogram for Spotify dataframe\n",
    "    trace2 = go.Histogram(\n",
    "        x=final_spo_recs[feature],\n",
    "        nbinsx=25,  # specify number of bins\n",
    "        name='Spo '+ feature,  # specify name for legend\n",
    "        marker=dict(color='rgb(179, 222, 105)'),  # specify color for histogram bars\n",
    "        opacity=0.7  # specify opacity of histogram bars\n",
    "    )\n",
    "\n",
    "    return trace1, trace2"
   ]
  },
  {
   "cell_type": "code",
   "execution_count": 87,
   "metadata": {},
   "outputs": [
    {
     "data": {
      "application/vnd.plotly.v1+json": {
       "config": {
        "plotlyServerURL": "https://plot.ly"
       },
       "data": [
        {
         "marker": {
          "color": "rgb(251, 128, 114)"
         },
         "name": "MSD tempo",
         "nbinsx": 25,
         "opacity": 0.7,
         "type": "histogram",
         "x": [
          178.895,
          173.209,
          176.729,
          132.393,
          164.72,
          164.103,
          146.738,
          137.265,
          133.548,
          158.372
         ],
         "xaxis": "x",
         "yaxis": "y"
        },
        {
         "marker": {
          "color": "rgb(179, 222, 105)"
         },
         "name": "Spo tempo",
         "nbinsx": 25,
         "opacity": 0.7,
         "type": "histogram",
         "x": [
          95.967,
          100.069,
          126.643,
          91.007,
          103.039,
          195.87,
          120.006,
          95.006,
          200.221,
          123.06
         ],
         "xaxis": "x",
         "yaxis": "y"
        },
        {
         "marker": {
          "color": "rgb(251, 128, 114)"
         },
         "name": "MSD loudness",
         "nbinsx": 25,
         "opacity": 0.7,
         "type": "histogram",
         "x": [
          -12.858,
          -15.263,
          -14.506,
          -11.892,
          -14.622,
          -15.256,
          -14.898,
          -12.265,
          -14.908,
          -10.562
         ],
         "xaxis": "x2",
         "yaxis": "y2"
        },
        {
         "marker": {
          "color": "rgb(179, 222, 105)"
         },
         "name": "Spo loudness",
         "nbinsx": 25,
         "opacity": 0.7,
         "type": "histogram",
         "x": [
          -7.76,
          -5.046,
          -7.367,
          -5.419,
          -6.853,
          -6.669,
          -6.082,
          -7.081,
          -6.207,
          -6.441
         ],
         "xaxis": "x2",
         "yaxis": "y2"
        },
        {
         "marker": {
          "color": "rgb(251, 128, 114)"
         },
         "name": "MSD popularity",
         "nbinsx": 25,
         "opacity": 0.7,
         "type": "histogram",
         "x": [
          34.82909761509343,
          34.961815821417666,
          34.86844785025832,
          34.98781910435999,
          34.81570770726,
          34.998563561508156,
          34.88968146262963,
          34.94519812747832,
          34.90969888631243,
          34.93809577650097
         ],
         "xaxis": "x3",
         "yaxis": "y3"
        },
        {
         "marker": {
          "color": "rgb(179, 222, 105)"
         },
         "name": "Spo popularity",
         "nbinsx": 25,
         "opacity": 0.7,
         "type": "histogram",
         "x": [
          40,
          40,
          40,
          40,
          40,
          40,
          40,
          40,
          40,
          40
         ],
         "xaxis": "x3",
         "yaxis": "y3"
        }
       ],
       "layout": {
        "font": {
         "color": "white"
        },
        "height": 600,
        "paper_bgcolor": "black",
        "plot_bgcolor": "black",
        "template": {
         "data": {
          "bar": [
           {
            "error_x": {
             "color": "#2a3f5f"
            },
            "error_y": {
             "color": "#2a3f5f"
            },
            "marker": {
             "line": {
              "color": "#E5ECF6",
              "width": 0.5
             },
             "pattern": {
              "fillmode": "overlay",
              "size": 10,
              "solidity": 0.2
             }
            },
            "type": "bar"
           }
          ],
          "barpolar": [
           {
            "marker": {
             "line": {
              "color": "#E5ECF6",
              "width": 0.5
             },
             "pattern": {
              "fillmode": "overlay",
              "size": 10,
              "solidity": 0.2
             }
            },
            "type": "barpolar"
           }
          ],
          "carpet": [
           {
            "aaxis": {
             "endlinecolor": "#2a3f5f",
             "gridcolor": "white",
             "linecolor": "white",
             "minorgridcolor": "white",
             "startlinecolor": "#2a3f5f"
            },
            "baxis": {
             "endlinecolor": "#2a3f5f",
             "gridcolor": "white",
             "linecolor": "white",
             "minorgridcolor": "white",
             "startlinecolor": "#2a3f5f"
            },
            "type": "carpet"
           }
          ],
          "choropleth": [
           {
            "colorbar": {
             "outlinewidth": 0,
             "ticks": ""
            },
            "type": "choropleth"
           }
          ],
          "contour": [
           {
            "colorbar": {
             "outlinewidth": 0,
             "ticks": ""
            },
            "colorscale": [
             [
              0,
              "#0d0887"
             ],
             [
              0.1111111111111111,
              "#46039f"
             ],
             [
              0.2222222222222222,
              "#7201a8"
             ],
             [
              0.3333333333333333,
              "#9c179e"
             ],
             [
              0.4444444444444444,
              "#bd3786"
             ],
             [
              0.5555555555555556,
              "#d8576b"
             ],
             [
              0.6666666666666666,
              "#ed7953"
             ],
             [
              0.7777777777777778,
              "#fb9f3a"
             ],
             [
              0.8888888888888888,
              "#fdca26"
             ],
             [
              1,
              "#f0f921"
             ]
            ],
            "type": "contour"
           }
          ],
          "contourcarpet": [
           {
            "colorbar": {
             "outlinewidth": 0,
             "ticks": ""
            },
            "type": "contourcarpet"
           }
          ],
          "heatmap": [
           {
            "colorbar": {
             "outlinewidth": 0,
             "ticks": ""
            },
            "colorscale": [
             [
              0,
              "#0d0887"
             ],
             [
              0.1111111111111111,
              "#46039f"
             ],
             [
              0.2222222222222222,
              "#7201a8"
             ],
             [
              0.3333333333333333,
              "#9c179e"
             ],
             [
              0.4444444444444444,
              "#bd3786"
             ],
             [
              0.5555555555555556,
              "#d8576b"
             ],
             [
              0.6666666666666666,
              "#ed7953"
             ],
             [
              0.7777777777777778,
              "#fb9f3a"
             ],
             [
              0.8888888888888888,
              "#fdca26"
             ],
             [
              1,
              "#f0f921"
             ]
            ],
            "type": "heatmap"
           }
          ],
          "heatmapgl": [
           {
            "colorbar": {
             "outlinewidth": 0,
             "ticks": ""
            },
            "colorscale": [
             [
              0,
              "#0d0887"
             ],
             [
              0.1111111111111111,
              "#46039f"
             ],
             [
              0.2222222222222222,
              "#7201a8"
             ],
             [
              0.3333333333333333,
              "#9c179e"
             ],
             [
              0.4444444444444444,
              "#bd3786"
             ],
             [
              0.5555555555555556,
              "#d8576b"
             ],
             [
              0.6666666666666666,
              "#ed7953"
             ],
             [
              0.7777777777777778,
              "#fb9f3a"
             ],
             [
              0.8888888888888888,
              "#fdca26"
             ],
             [
              1,
              "#f0f921"
             ]
            ],
            "type": "heatmapgl"
           }
          ],
          "histogram": [
           {
            "marker": {
             "pattern": {
              "fillmode": "overlay",
              "size": 10,
              "solidity": 0.2
             }
            },
            "type": "histogram"
           }
          ],
          "histogram2d": [
           {
            "colorbar": {
             "outlinewidth": 0,
             "ticks": ""
            },
            "colorscale": [
             [
              0,
              "#0d0887"
             ],
             [
              0.1111111111111111,
              "#46039f"
             ],
             [
              0.2222222222222222,
              "#7201a8"
             ],
             [
              0.3333333333333333,
              "#9c179e"
             ],
             [
              0.4444444444444444,
              "#bd3786"
             ],
             [
              0.5555555555555556,
              "#d8576b"
             ],
             [
              0.6666666666666666,
              "#ed7953"
             ],
             [
              0.7777777777777778,
              "#fb9f3a"
             ],
             [
              0.8888888888888888,
              "#fdca26"
             ],
             [
              1,
              "#f0f921"
             ]
            ],
            "type": "histogram2d"
           }
          ],
          "histogram2dcontour": [
           {
            "colorbar": {
             "outlinewidth": 0,
             "ticks": ""
            },
            "colorscale": [
             [
              0,
              "#0d0887"
             ],
             [
              0.1111111111111111,
              "#46039f"
             ],
             [
              0.2222222222222222,
              "#7201a8"
             ],
             [
              0.3333333333333333,
              "#9c179e"
             ],
             [
              0.4444444444444444,
              "#bd3786"
             ],
             [
              0.5555555555555556,
              "#d8576b"
             ],
             [
              0.6666666666666666,
              "#ed7953"
             ],
             [
              0.7777777777777778,
              "#fb9f3a"
             ],
             [
              0.8888888888888888,
              "#fdca26"
             ],
             [
              1,
              "#f0f921"
             ]
            ],
            "type": "histogram2dcontour"
           }
          ],
          "mesh3d": [
           {
            "colorbar": {
             "outlinewidth": 0,
             "ticks": ""
            },
            "type": "mesh3d"
           }
          ],
          "parcoords": [
           {
            "line": {
             "colorbar": {
              "outlinewidth": 0,
              "ticks": ""
             }
            },
            "type": "parcoords"
           }
          ],
          "pie": [
           {
            "automargin": true,
            "type": "pie"
           }
          ],
          "scatter": [
           {
            "fillpattern": {
             "fillmode": "overlay",
             "size": 10,
             "solidity": 0.2
            },
            "type": "scatter"
           }
          ],
          "scatter3d": [
           {
            "line": {
             "colorbar": {
              "outlinewidth": 0,
              "ticks": ""
             }
            },
            "marker": {
             "colorbar": {
              "outlinewidth": 0,
              "ticks": ""
             }
            },
            "type": "scatter3d"
           }
          ],
          "scattercarpet": [
           {
            "marker": {
             "colorbar": {
              "outlinewidth": 0,
              "ticks": ""
             }
            },
            "type": "scattercarpet"
           }
          ],
          "scattergeo": [
           {
            "marker": {
             "colorbar": {
              "outlinewidth": 0,
              "ticks": ""
             }
            },
            "type": "scattergeo"
           }
          ],
          "scattergl": [
           {
            "marker": {
             "colorbar": {
              "outlinewidth": 0,
              "ticks": ""
             }
            },
            "type": "scattergl"
           }
          ],
          "scattermapbox": [
           {
            "marker": {
             "colorbar": {
              "outlinewidth": 0,
              "ticks": ""
             }
            },
            "type": "scattermapbox"
           }
          ],
          "scatterpolar": [
           {
            "marker": {
             "colorbar": {
              "outlinewidth": 0,
              "ticks": ""
             }
            },
            "type": "scatterpolar"
           }
          ],
          "scatterpolargl": [
           {
            "marker": {
             "colorbar": {
              "outlinewidth": 0,
              "ticks": ""
             }
            },
            "type": "scatterpolargl"
           }
          ],
          "scatterternary": [
           {
            "marker": {
             "colorbar": {
              "outlinewidth": 0,
              "ticks": ""
             }
            },
            "type": "scatterternary"
           }
          ],
          "surface": [
           {
            "colorbar": {
             "outlinewidth": 0,
             "ticks": ""
            },
            "colorscale": [
             [
              0,
              "#0d0887"
             ],
             [
              0.1111111111111111,
              "#46039f"
             ],
             [
              0.2222222222222222,
              "#7201a8"
             ],
             [
              0.3333333333333333,
              "#9c179e"
             ],
             [
              0.4444444444444444,
              "#bd3786"
             ],
             [
              0.5555555555555556,
              "#d8576b"
             ],
             [
              0.6666666666666666,
              "#ed7953"
             ],
             [
              0.7777777777777778,
              "#fb9f3a"
             ],
             [
              0.8888888888888888,
              "#fdca26"
             ],
             [
              1,
              "#f0f921"
             ]
            ],
            "type": "surface"
           }
          ],
          "table": [
           {
            "cells": {
             "fill": {
              "color": "#EBF0F8"
             },
             "line": {
              "color": "white"
             }
            },
            "header": {
             "fill": {
              "color": "#C8D4E3"
             },
             "line": {
              "color": "white"
             }
            },
            "type": "table"
           }
          ]
         },
         "layout": {
          "annotationdefaults": {
           "arrowcolor": "#2a3f5f",
           "arrowhead": 0,
           "arrowwidth": 1
          },
          "autotypenumbers": "strict",
          "coloraxis": {
           "colorbar": {
            "outlinewidth": 0,
            "ticks": ""
           }
          },
          "colorscale": {
           "diverging": [
            [
             0,
             "#8e0152"
            ],
            [
             0.1,
             "#c51b7d"
            ],
            [
             0.2,
             "#de77ae"
            ],
            [
             0.3,
             "#f1b6da"
            ],
            [
             0.4,
             "#fde0ef"
            ],
            [
             0.5,
             "#f7f7f7"
            ],
            [
             0.6,
             "#e6f5d0"
            ],
            [
             0.7,
             "#b8e186"
            ],
            [
             0.8,
             "#7fbc41"
            ],
            [
             0.9,
             "#4d9221"
            ],
            [
             1,
             "#276419"
            ]
           ],
           "sequential": [
            [
             0,
             "#0d0887"
            ],
            [
             0.1111111111111111,
             "#46039f"
            ],
            [
             0.2222222222222222,
             "#7201a8"
            ],
            [
             0.3333333333333333,
             "#9c179e"
            ],
            [
             0.4444444444444444,
             "#bd3786"
            ],
            [
             0.5555555555555556,
             "#d8576b"
            ],
            [
             0.6666666666666666,
             "#ed7953"
            ],
            [
             0.7777777777777778,
             "#fb9f3a"
            ],
            [
             0.8888888888888888,
             "#fdca26"
            ],
            [
             1,
             "#f0f921"
            ]
           ],
           "sequentialminus": [
            [
             0,
             "#0d0887"
            ],
            [
             0.1111111111111111,
             "#46039f"
            ],
            [
             0.2222222222222222,
             "#7201a8"
            ],
            [
             0.3333333333333333,
             "#9c179e"
            ],
            [
             0.4444444444444444,
             "#bd3786"
            ],
            [
             0.5555555555555556,
             "#d8576b"
            ],
            [
             0.6666666666666666,
             "#ed7953"
            ],
            [
             0.7777777777777778,
             "#fb9f3a"
            ],
            [
             0.8888888888888888,
             "#fdca26"
            ],
            [
             1,
             "#f0f921"
            ]
           ]
          },
          "colorway": [
           "#636efa",
           "#EF553B",
           "#00cc96",
           "#ab63fa",
           "#FFA15A",
           "#19d3f3",
           "#FF6692",
           "#B6E880",
           "#FF97FF",
           "#FECB52"
          ],
          "font": {
           "color": "#2a3f5f"
          },
          "geo": {
           "bgcolor": "white",
           "lakecolor": "white",
           "landcolor": "#E5ECF6",
           "showlakes": true,
           "showland": true,
           "subunitcolor": "white"
          },
          "hoverlabel": {
           "align": "left"
          },
          "hovermode": "closest",
          "mapbox": {
           "style": "light"
          },
          "paper_bgcolor": "white",
          "plot_bgcolor": "#E5ECF6",
          "polar": {
           "angularaxis": {
            "gridcolor": "white",
            "linecolor": "white",
            "ticks": ""
           },
           "bgcolor": "#E5ECF6",
           "radialaxis": {
            "gridcolor": "white",
            "linecolor": "white",
            "ticks": ""
           }
          },
          "scene": {
           "xaxis": {
            "backgroundcolor": "#E5ECF6",
            "gridcolor": "white",
            "gridwidth": 2,
            "linecolor": "white",
            "showbackground": true,
            "ticks": "",
            "zerolinecolor": "white"
           },
           "yaxis": {
            "backgroundcolor": "#E5ECF6",
            "gridcolor": "white",
            "gridwidth": 2,
            "linecolor": "white",
            "showbackground": true,
            "ticks": "",
            "zerolinecolor": "white"
           },
           "zaxis": {
            "backgroundcolor": "#E5ECF6",
            "gridcolor": "white",
            "gridwidth": 2,
            "linecolor": "white",
            "showbackground": true,
            "ticks": "",
            "zerolinecolor": "white"
           }
          },
          "shapedefaults": {
           "line": {
            "color": "#2a3f5f"
           }
          },
          "ternary": {
           "aaxis": {
            "gridcolor": "white",
            "linecolor": "white",
            "ticks": ""
           },
           "baxis": {
            "gridcolor": "white",
            "linecolor": "white",
            "ticks": ""
           },
           "bgcolor": "#E5ECF6",
           "caxis": {
            "gridcolor": "white",
            "linecolor": "white",
            "ticks": ""
           }
          },
          "title": {
           "x": 0.05
          },
          "xaxis": {
           "automargin": true,
           "gridcolor": "white",
           "linecolor": "white",
           "ticks": "",
           "title": {
            "standoff": 15
           },
           "zerolinecolor": "white",
           "zerolinewidth": 2
          },
          "yaxis": {
           "automargin": true,
           "gridcolor": "white",
           "linecolor": "white",
           "ticks": "",
           "title": {
            "standoff": 15
           },
           "zerolinecolor": "white",
           "zerolinewidth": 2
          }
         }
        },
        "title": {
         "text": "MSD and Spotify Data",
         "x": 0.5
        },
        "width": 1000,
        "xaxis": {
         "anchor": "y",
         "domain": [
          0,
          1
         ],
         "title": {
          "text": "Tempo"
         }
        },
        "xaxis2": {
         "anchor": "y2",
         "domain": [
          0,
          1
         ],
         "title": {
          "text": "Loudness"
         }
        },
        "xaxis3": {
         "anchor": "y3",
         "domain": [
          0,
          1
         ],
         "title": {
          "text": "Popularity"
         }
        },
        "yaxis": {
         "anchor": "x",
         "domain": [
          0.7333333333333333,
          1
         ],
         "title": {
          "text": "Distribution"
         }
        },
        "yaxis2": {
         "anchor": "x2",
         "domain": [
          0.36666666666666664,
          0.6333333333333333
         ],
         "title": {
          "text": "Distribution"
         }
        },
        "yaxis3": {
         "anchor": "x3",
         "domain": [
          0,
          0.26666666666666666
         ],
         "title": {
          "text": "Distribution"
         }
        }
       }
      }
     },
     "metadata": {},
     "output_type": "display_data"
    }
   ],
   "source": [
    "# Create subplots\n",
    "fig = make_subplots(rows=3, cols=1)\n",
    "\n",
    "# Add histograms as subplots\n",
    "trace1_tempo, trace2_tempo = histograms('tempo')\n",
    "trace1_loudness, trace2_loudness = histograms('loudness')\n",
    "trace1_popularity, trace2_popularity = histograms('popularity')\n",
    "\n",
    "fig.add_trace(trace1_tempo, row=1, col=1)\n",
    "fig.add_trace(trace2_tempo, row=1, col=1)\n",
    "\n",
    "fig.add_trace(trace1_loudness, row=2, col=1)\n",
    "fig.add_trace(trace2_loudness, row=2, col=1)\n",
    "\n",
    "fig.add_trace(trace1_popularity, row=3, col=1)\n",
    "fig.add_trace(trace2_popularity, row=3, col=1)\n",
    "\n",
    "# Update subplot layout\n",
    "fig.update_xaxes(title_text='Tempo', row=1, col=1)\n",
    "fig.update_yaxes(title_text='Distribution', row=1, col=1)\n",
    "\n",
    "fig.update_xaxes(title_text='Loudness', row=2, col=1)\n",
    "fig.update_yaxes(title_text='Distribution', row=2, col=1)\n",
    "\n",
    "fig.update_xaxes(title_text='Popularity', row=3, col=1)\n",
    "fig.update_yaxes(title_text='Distribution', row=3, col=1)\n",
    "\n",
    "fig.update_layout(\n",
    "    height=600,\n",
    "    width=1000,\n",
    "    title_text=\"MSD and Spotify Data\",\n",
    "    title_x=0.5,\n",
    "    plot_bgcolor='black',\n",
    "    paper_bgcolor='black',\n",
    "    font=dict(color='white')\n",
    ")\n",
    "\n",
    "# Show the plot\n",
    "fig.show()\n",
    "fig.write_html('subplots_plot.html')"
   ]
  }
 ],
 "metadata": {
  "kernelspec": {
   "display_name": "Python 3 (ipykernel)",
   "language": "python",
   "name": "python3"
  },
  "language_info": {
   "codemirror_mode": {
    "name": "ipython",
    "version": 3
   },
   "file_extension": ".py",
   "mimetype": "text/x-python",
   "name": "python",
   "nbconvert_exporter": "python",
   "pygments_lexer": "ipython3",
   "version": "3.11.0"
  }
 },
 "nbformat": 4,
 "nbformat_minor": 2
}
